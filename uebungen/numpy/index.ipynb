{
 "cells": [
  {
   "cell_type": "markdown",
   "metadata": {},
   "source": [
    "# Vektorielles Rechnen in Numpy\n",
    "\n",
    "## Grundrechenarten\n",
    "\n",
    "### Eindimensional\n",
    "\n",
    "Gegeben sind zwei Arrays"
   ]
  },
  {
   "cell_type": "code",
   "execution_count": 1,
   "metadata": {
    "collapsed": true
   },
   "outputs": [],
   "source": [
    "import numpy as np\n",
    "\n",
    "\n",
    "arr1 = np.array([1, 2, 3])\n",
    "arr2 = np.array([5, 6, 7])"
   ]
  },
  {
   "cell_type": "markdown",
   "metadata": {},
   "source": [
    "Bilden Sie die Summe, Differenz, das Produkt, etc.."
   ]
  },
  {
   "cell_type": "code",
   "execution_count": 2,
   "metadata": {},
   "outputs": [
    {
     "data": {
      "text/plain": [
       "array([-4, -4, -4])"
      ]
     },
     "execution_count": 2,
     "metadata": {},
     "output_type": "execute_result"
    }
   ],
   "source": [
    "arr1 + arr2\n",
    "arr1 - arr2\n",
    "\n",
    "# usw."
   ]
  },
  {
   "cell_type": "markdown",
   "metadata": {},
   "source": [
    "Was passiert, wenn Sie statt arr2, eine einzelne\n",
    "Zahl (num = 5) benutzen?"
   ]
  },
  {
   "cell_type": "code",
   "execution_count": 3,
   "metadata": {},
   "outputs": [
    {
     "data": {
      "text/plain": [
       "array([6, 7, 8])"
      ]
     },
     "execution_count": 3,
     "metadata": {},
     "output_type": "execute_result"
    }
   ],
   "source": [
    "arr1 + 5\n",
    "\n",
    "# geht auch. [1, 2, 3] + 5  entspricht [1, 2, 3] + [5, 5, 5]"
   ]
  },
  {
   "cell_type": "markdown",
   "metadata": {},
   "source": [
    "### Zweidimensional\n",
    "\n",
    "Diesmal ist eine Matrix gegeben"
   ]
  },
  {
   "cell_type": "code",
   "execution_count": 4,
   "metadata": {
    "collapsed": true
   },
   "outputs": [],
   "source": [
    "arr_2d = np.array([[1, 2, 3],\n",
    "                   [4, 5, 6],\n",
    "                   [7, 8, 9]])"
   ]
  },
  {
   "cell_type": "markdown",
   "metadata": {},
   "source": [
    "* Addieren (subtrahieren, ...) Sie eine einzelne Zahl"
   ]
  },
  {
   "cell_type": "code",
   "execution_count": 5,
   "metadata": {
    "collapsed": true
   },
   "outputs": [],
   "source": [
    "# arr_2d + 5 entspricht arr_2d + [[5, 5, 5], [5, 5, 5], [5, 5, 5]]"
   ]
  },
  {
   "cell_type": "markdown",
   "metadata": {},
   "source": [
    "* Addieren (subtrahieren, ...) Sie einen Vektor der Länge 3. Was passiert?"
   ]
  },
  {
   "cell_type": "code",
   "execution_count": 6,
   "metadata": {
    "collapsed": true
   },
   "outputs": [],
   "source": [
    "# arr_2d + [1, 2, 3] entspricht arr_2d + [[1, 2, 3], [1, 2, 3], [1, 2, 3]]"
   ]
  },
  {
   "cell_type": "markdown",
   "metadata": {},
   "source": [
    "* Wie muss der Array aussehen, den man auf arr_2d addiert, damit das Ergebnis\n",
    "\n",
    "\n",
    "```python\n",
    "array([[ 2,  3,  4],\n",
    "       [ 6,  7,  8],\n",
    "       [10, 11, 12]])\n",
    "```\n",
    "\n",
    "ist? (Tipp: Spaltenvektor!)"
   ]
  },
  {
   "cell_type": "code",
   "execution_count": 7,
   "metadata": {},
   "outputs": [
    {
     "name": "stdout",
     "output_type": "stream",
     "text": [
      "[[ 2  3  4]\n",
      " [ 6  7  8]\n",
      " [10 11 12]]\n"
     ]
    }
   ],
   "source": [
    "arr = np.array([[1], \n",
    "                [2], \n",
    "                [3]])\n",
    "\n",
    "print(arr_2d + arr)"
   ]
  },
  {
   "cell_type": "markdown",
   "metadata": {},
   "source": [
    "## Reshape\n",
    "\n",
    "Oft ist es hilfreich, die Elemente eines Arrays anders anzuordnen.\n",
    "So kann man z.B. aus einem eindimensionalen Array der Länge 15, einen zweidimensionalen\n",
    "Array mit der Shape (3, 5) machen (drei Zeilen, fünf Spalten)."
   ]
  },
  {
   "cell_type": "code",
   "execution_count": 8,
   "metadata": {
    "collapsed": true
   },
   "outputs": [],
   "source": [
    "arr_1d = np.arange(15)\n",
    "arr_2d = arr_1d.reshape((3, 5))"
   ]
  },
  {
   "cell_type": "markdown",
   "metadata": {},
   "source": [
    "* Machen Sie aus arr_2d einen Array mit fünf Zeilen und drei Spalten!\n",
    "\n",
    "* ... mit fünfzehn Zeilen und einer Spalte\n",
    "\n",
    "* einer Zeile und fünfzehn Spalten\n",
    "\n",
    "* einen eindimensionalen Array"
   ]
  },
  {
   "cell_type": "code",
   "execution_count": 9,
   "metadata": {},
   "outputs": [
    {
     "name": "stdout",
     "output_type": "stream",
     "text": [
      "5x3: [[ 0  1  2]\n",
      " [ 3  4  5]\n",
      " [ 6  7  8]\n",
      " [ 9 10 11]\n",
      " [12 13 14]]\n",
      "15x1: [[ 0]\n",
      " [ 1]\n",
      " [ 2]\n",
      " [ 3]\n",
      " [ 4]\n",
      " [ 5]\n",
      " [ 6]\n",
      " [ 7]\n",
      " [ 8]\n",
      " [ 9]\n",
      " [10]\n",
      " [11]\n",
      " [12]\n",
      " [13]\n",
      " [14]]\n",
      "1x15: [[ 0  1  2  3  4  5  6  7  8  9 10 11 12 13 14]]\n",
      "1D: [ 0  1  2  3  4  5  6  7  8  9 10 11 12 13 14]\n"
     ]
    }
   ],
   "source": [
    "print(\"5x3:\", arr_2d.reshape((5, 3)))\n",
    "\n",
    "print(\"15x1:\", arr_2d.reshape((15, 1)))\n",
    "\n",
    "print(\"1x15:\", arr_2d.reshape((1, 15)))\n",
    "\n",
    "print(\"1D:\", arr_2d.reshape(15))"
   ]
  },
  {
   "cell_type": "markdown",
   "metadata": {},
   "source": [
    "## Slicing\n",
    "\n",
    "### Eindimensional\n",
    "\n",
    "Gegeben ist ein Array aus zwanzig Elementen"
   ]
  },
  {
   "cell_type": "code",
   "execution_count": 10,
   "metadata": {
    "collapsed": true
   },
   "outputs": [],
   "source": [
    "arr = np.array(list(\"abcdefghiklmnopqrstuvwxyz\"))"
   ]
  },
  {
   "cell_type": "markdown",
   "metadata": {},
   "source": [
    "Lassen Sie sich die ersten 10 ausgeben (Die Syntax fürs Slicen ist wie bei Python-Listen)"
   ]
  },
  {
   "cell_type": "code",
   "execution_count": 11,
   "metadata": {},
   "outputs": [
    {
     "data": {
      "text/plain": [
       "array(['a', 'b', 'c', 'd', 'e', 'f', 'g', 'h', 'i', 'k'],\n",
       "      dtype='<U1')"
      ]
     },
     "execution_count": 11,
     "metadata": {},
     "output_type": "execute_result"
    }
   ],
   "source": [
    "arr[:10]"
   ]
  },
  {
   "cell_type": "markdown",
   "metadata": {},
   "source": [
    "### Zweidimensional\n",
    "\n",
    "Diesmal ist ein zweidimensionaler Array\n",
    "mit vier Zeilen und fünf Spalten gegeben."
   ]
  },
  {
   "cell_type": "code",
   "execution_count": 12,
   "metadata": {},
   "outputs": [
    {
     "name": "stdout",
     "output_type": "stream",
     "text": [
      "[['a' 'b' 'c' 'd' 'e']\n",
      " ['f' 'g' 'h' 'i' 'k']\n",
      " ['l' 'm' 'n' 'o' 'p']\n",
      " ['q' 'r' 's' 't' 'u']]\n"
     ]
    }
   ],
   "source": [
    "arr2d = arr[:20].reshape((4, 5))\n",
    "print(arr2d)"
   ]
  },
  {
   "cell_type": "markdown",
   "metadata": {},
   "source": [
    "Man kann auch in zwei (oder mehr) Dimensionen slicen.\n",
    "Beispiel:"
   ]
  },
  {
   "cell_type": "code",
   "execution_count": 13,
   "metadata": {},
   "outputs": [
    {
     "name": "stdout",
     "output_type": "stream",
     "text": [
      "[['a' 'b']\n",
      " ['f' 'g']]\n"
     ]
    }
   ],
   "source": [
    "print(arr2d[:2, :2])"
   ]
  },
  {
   "cell_type": "markdown",
   "metadata": {},
   "source": [
    "Benutzen Sie Slicing, um\n",
    "\n",
    "* die letzten drei Elemente der vorletzten Zeile auszugeben (\"n\", \"o\", \"p\")\n",
    "\n",
    "* den Ausschnitt [[\"g\", \"h\"], [\"m\", \"n\"]] zu bekommen"
   ]
  },
  {
   "cell_type": "code",
   "execution_count": 14,
   "metadata": {},
   "outputs": [
    {
     "name": "stdout",
     "output_type": "stream",
     "text": [
      "['n' 'o' 'p']\n",
      "[['g' 'h']\n",
      " ['m' 'n']]\n"
     ]
    }
   ],
   "source": [
    "print(arr2d[-2, -3:])\n",
    "\n",
    "print(arr2d[1:3, 1:3])"
   ]
  },
  {
   "cell_type": "markdown",
   "metadata": {},
   "source": [
    "## Schwerpunktsberechnung\n",
    "\n",
    "Gegeben sind die Koordinaten von drei Atomen, sowie deren Massen"
   ]
  },
  {
   "cell_type": "code",
   "execution_count": 15,
   "metadata": {
    "collapsed": true
   },
   "outputs": [],
   "source": [
    "position_atom1 = [0, 0, 0]\n",
    "position_atom2 = [2.5, 4, 1.3]\n",
    "position_atom3 = [8, -3, 7.5]\n",
    "\n",
    "\n",
    "masses = np.array([0.5, 1.3, 2.7])\n",
    "\n",
    "\n",
    "atoms = np.array([position_atom1,\n",
    "                  position_atom2,\n",
    "                  position_atom3]\n",
    "                 )"
   ]
  },
  {
   "cell_type": "markdown",
   "metadata": {},
   "source": [
    "Der Schwerpunkt der Atome wird berechnet, indem jede Atomposition mit der zugehörigen Masse multipliziert wird.\n",
    "Anschließend wird der resultierende Vektor durch die Gesamtmasse geteilt.\n",
    "\n",
    "* Benutzen Sie reshape, um masses zu einem Spaltenvektor zu machen\n",
    "\n",
    "* Multiplizieren Sie atoms mit masses, und addieren Sie die Vektoren entlang der nullten Dimension\n",
    "\n",
    "* Teilen Sie durch die Summe von masses"
   ]
  },
  {
   "cell_type": "code",
   "execution_count": 16,
   "metadata": {},
   "outputs": [
    {
     "data": {
      "text/plain": [
       "array([ 5.52222222, -0.64444444,  4.87555556])"
      ]
     },
     "execution_count": 16,
     "metadata": {},
     "output_type": "execute_result"
    }
   ],
   "source": [
    "np.sum(atoms * masses.reshape((3, 1)), axis=0) / masses.sum()"
   ]
  },
  {
   "cell_type": "markdown",
   "metadata": {},
   "source": [
    "## Monte Carlo\n",
    "\n",
    "![PI_Berechnung](https://upload.wikimedia.org/wikipedia/commons/8/84/Pi_30K.gif)\n",
    "\n",
    "Quelle: https://en.wikipedia.org/wiki/Monte_Carlo_method\n",
    "\n",
    "Bestimmen Sie die Kreiszahl \\\\(\\pi\\\\), indem Sie zufällig Punkte in einem Koordinatensystem der Länge 1 und Höhe 1 verteilen. \n",
    "Wenn Sie einen Kreis ziehen, dessen Zentrum im Ursprung des Koordinatensystems liegt, ist ein Viertel davon in dem Koordinatensystemausschnitt zu sehen.\n",
    "Einige der zufällig gewählten Punkte werden nun innerhalb des Viertelkreises liegen, andere außerhalb. \n",
    "Bestimmen Sie über das Verhältnis \\\\(\\frac{\\text{Anzahl der Punkte im Kreis}}{\\text{Gesamtanzahl der Punkte}}\\\\) die Zahl \\\\(\\pi\\\\). \n",
    "\n",
    "Hinweis: \n",
    "Mittels\n",
    "\n",
    "```python\n",
    "np.random.random(shape)\n",
    "```\n",
    "\n",
    "können Sie einen Array mit Zufallszahlen im Intervall [0, 1) erzeugen."
   ]
  },
  {
   "cell_type": "code",
   "execution_count": 17,
   "metadata": {},
   "outputs": [
    {
     "name": "stdout",
     "output_type": "stream",
     "text": [
      "True\n",
      "[ True False  True ...,  True  True  True]\n",
      "0.7805\n",
      "Schätzung für Pi: 3.122\n"
     ]
    }
   ],
   "source": [
    "# Idee: generiere zufällig eine Koordinate im Quadrat und prüfe, ob sie im Kreis liegt oder nicht.\n",
    "# Das Verhältnis Punkte im Kreis / Gesamtzahl Punkte sollte dem Verhältnis Kreisfläche / Gesamtfläche entsprechen\n",
    "\n",
    "# Vorgehen bei einem einzelnen Punkt:\n",
    "\n",
    "# Punkt erzeugen\n",
    "x = np.random.random()\n",
    "y = np.random.random()\n",
    "\n",
    "# Prüfen, ob er im Kreis liegt\n",
    "print(x**2 + y**2 <= 1)\n",
    "\n",
    "\n",
    "# Jetzt das selbe für viele Punkte auf einmal:\n",
    "gesamtanzahl_punkte = 10000\n",
    "x = np.random.random(gesamtanzahl_punkte)\n",
    "y = np.random.random(gesamtanzahl_punkte)\n",
    "\n",
    "# Prüfen, ob er im Kreis liegt\n",
    "print(x**2 + y**2 <= 1)\n",
    "\n",
    "\n",
    "# Jetzt müssen wir nur noch die Trues in dem Array zählen\n",
    "# Wir nutzen dafür aus, dass True intern als 1 gespeichert wird, und False als Null\n",
    "\n",
    "anzahl_punkte_im_kreis = np.sum(x**2 + y**2 <=1)\n",
    "print(anzahl_punkte_im_kreis / gesamtanzahl_punkte)\n",
    "\n",
    "print(\"Schätzung für Pi:\", anzahl_punkte_im_kreis / gesamtanzahl_punkte * 4)"
   ]
  },
  {
   "cell_type": "markdown",
   "metadata": {
    "collapsed": true
   },
   "source": [
    "## Apfel-Männchen\n",
    "\n",
    "Gegeben ist eine rekursive Folge für komplexe Zahlen\n",
    "\n",
    "\n",
    "\\\\(z_{i+1} = z_i^2 + c \\\\)\n",
    "\n",
    "mit \\\\(z_0 = 0\\\\)\n",
    "\n",
    "Je nachdem wie man c wählt, bleibt diese Folge beschränkt (d.h. der Betrag der komplexen Zahl (np.abs) bleibt unter einer gewissen Grenze), oder sie divergiert.\n",
    "\n",
    "1) Erstellen Sie einen komplexen 2D-Array c, der die komplexe Ebene darstellen soll. Der Realteil soll dabei von -2 bis 2 verlaufen, der Imaginärteil von -i bis i.\n",
    " Dies erreichen Sie durch folgende Schritte:\n",
    "  * Erstellen Sie einen Float-Array für den Realteil und einen für den Imaginärteil:\n",
    "    \n",
    "```python\n",
    "real = np.linspace(-2, 2, 100)\n",
    "imag = np.linspace(-1, 1, 50) * 1j\n",
    "```\n",
    "\n",
    "  * Um ein zweidimensionales Gitter zu erstellen, schreiben Sie folgendes:\n",
    "    \n",
    "```python\n",
    "R, I = np.meshgrid(real, imag)\n",
    "c = R + I\n",
    "```\n",
    "\n",
    "    c ist nun ein zweidimensionales Array, das die Punkte der komplexen Ebene zwischen -2-1j und 2+2j enthält.\n",
    "\n",
    "2) Erstellen Sie einen komplexen Array z, sowie einen Integer-Array counter, die beide die selbe shape wie c haben\n",
    "\n",
    "```python\n",
    "z = np.zeros_like(c, dtype=complex)\n",
    "counter = np.zeros_like(c, dtype=int)\n",
    "```\n",
    "\n",
    "3) Nun beginnt die Hauptschleife: berechnen Sie in 100 Schritten die Werte z_1 bis z_100, indem Sie ihren Array z immer wieder neu berechnen. Überprüfen Sie nach jeder Rechnung, welche Elemente des z-Arrays noch einen Betrag (np.abs) kleiner 10 haben (-> den resultierenden Boolschen Array können Sie zu counter hinzuaddieren. True wird dann als Wert 1, und False als Wert 0 aufgefasst).\n",
    "\n",
    "4) Zum Schluss können Sie sich ein Bild des Counters ausgeben lassen. Dazu müssen Sie zu Beginn des Skripts folgendes Paket importieren:\n",
    "    \n",
    "```python\n",
    "from PIL import Image\n",
    "```\n",
    "\n",
    "    anschließend können Sie mit folgenden 3 Zeilen ein Bild speichern:\n",
    "\n",
    "```python\n",
    "counter = np.array(counter/100. * 255, dtype=np.uint8)\n",
    "img = Image.fromarray(counter)\n",
    "img.save(\"mandelbrot.png\") \n",
    "```\n",
    "\n",
    "5) Experimentieren Sie auch mit anderen Grenzen des Arrays c. Sie können so weiter in das Apfelmännchen \"zoomen\"."
   ]
  },
  {
   "cell_type": "code",
   "execution_count": 39,
   "metadata": {},
   "outputs": [
    {
     "name": "stderr",
     "output_type": "stream",
     "text": [
      "/scratch/kabbe/programs/anaconda3/lib/python3.6/site-packages/ipykernel_launcher.py:20: RuntimeWarning: overflow encountered in square\n",
      "/scratch/kabbe/programs/anaconda3/lib/python3.6/site-packages/ipykernel_launcher.py:20: RuntimeWarning: invalid value encountered in square\n"
     ]
    }
   ],
   "source": [
    "plt.figure(figsize=(20, 10))\n",
    "\n",
    "real_min, real_max = -2, 1\n",
    "imag_min, imag_max = -1, 1\n",
    "\n",
    "cols = 1200\n",
    "lines = int((imag_max - imag_min) / (real_max - real_min) * cols)\n",
    "\n",
    "real = np.linspace(real_min, real_max, cols)\n",
    "imag = np.linspace(imag_min, imag_max, lines) * 1j\n",
    "R, I = np.meshgrid(real, imag)\n",
    "c = R + I\n",
    "z = np.zeros_like(c, dtype=complex)\n",
    "counter = np.zeros_like(c, dtype=int)\n",
    "\n",
    "threshold = 10\n",
    "\n",
    "for _ in range(100):\n",
    "    below_threshold = z < threshold\n",
    "    z[below_threshold] = z[below_threshold]**2 + c[below_threshold]\n",
    "    counter[below_threshold] += 1\n",
    "\n",
    "#counter = np.array(counter / 100 * 255, dtype=np.uint8)\n",
    "plt.imshow(counter, extent=[real_max, real_min, imag_max, imag_min])\n",
    "plt.savefig(\"test.png\")"
   ]
  },
  {
   "cell_type": "code",
   "execution_count": 38,
   "metadata": {},
   "outputs": [],
   "source": []
  },
  {
   "cell_type": "code",
   "execution_count": null,
   "metadata": {
    "collapsed": true
   },
   "outputs": [],
   "source": []
  }
 ],
 "metadata": {
  "kernelspec": {
   "display_name": "Python 3",
   "language": "python",
   "name": "python3"
  },
  "language_info": {
   "codemirror_mode": {
    "name": "ipython",
    "version": 3
   },
   "file_extension": ".py",
   "mimetype": "text/x-python",
   "name": "python",
   "nbconvert_exporter": "python",
   "pygments_lexer": "ipython3",
   "version": "3.6.2"
  }
 },
 "nbformat": 4,
 "nbformat_minor": 2
}
