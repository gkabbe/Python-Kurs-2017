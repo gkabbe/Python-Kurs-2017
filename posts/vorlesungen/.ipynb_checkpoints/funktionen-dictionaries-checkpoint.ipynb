{
 "cells": [
  {
   "cell_type": "markdown",
   "metadata": {},
   "source": [
    "# Funktionen"
   ]
  },
  {
   "cell_type": "code",
   "execution_count": null,
   "metadata": {},
   "outputs": [],
   "source": []
  }
 ],
 "metadata": {
  "kernelspec": {
   "display_name": "Python 3",
   "language": "python",
   "name": "python3"
  },
  "language_info": {
   "codemirror_mode": {
    "name": "ipython",
    "version": 3
   },
   "file_extension": ".py",
   "mimetype": "text/x-python",
   "name": "python",
   "nbconvert_exporter": "python",
   "pygments_lexer": "ipython3",
   "version": "3.6.2"
  },
  "nikola": {
   "category": "",
   "date": "2017-11-01 19:15:44 UTC+01:00",
   "description": "",
   "link": "",
   "slug": "funktionen-dictionaries",
   "tags": "",
   "title": "Funktionen-Dictionaries",
   "type": "text"
  }
 },
 "nbformat": 4,
 "nbformat_minor": 2
}
