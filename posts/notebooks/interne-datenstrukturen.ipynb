{
 "cells": [
  {
   "cell_type": "markdown",
   "metadata": {
    "deletable": true,
    "editable": true
   },
   "source": [
    "# Verschiedene Datenstrukturen in Python\n",
    "## (28.04.17)\n",
    "\n",
    "Hinweis: Dieses Notebook könnt ihr runterladen, indem ihr rechts oben auf den Link Source drückt\n",
    "Ihr könnt dann zuhause nochmal die einzelnen Beispiele anschauen, ändern und ausführen"
   ]
  },
  {
   "cell_type": "markdown",
   "metadata": {
    "deletable": true,
    "editable": true
   },
   "source": [
    "## Listen"
   ]
  },
  {
   "cell_type": "code",
   "execution_count": 1,
   "metadata": {
    "collapsed": true,
    "deletable": true,
    "editable": true
   },
   "outputs": [],
   "source": [
    "meine_liste = [1, 2, 3, 4, 5]"
   ]
  },
  {
   "cell_type": "code",
   "execution_count": 2,
   "metadata": {
    "collapsed": false,
    "deletable": true,
    "editable": true
   },
   "outputs": [
    {
     "name": "stdout",
     "output_type": "stream",
     "text": [
      "[1, 2, 3, 4, 5]\n"
     ]
    }
   ],
   "source": [
    "print(meine_liste)"
   ]
  },
  {
   "cell_type": "code",
   "execution_count": 3,
   "metadata": {
    "collapsed": false,
    "deletable": true,
    "editable": true
   },
   "outputs": [
    {
     "name": "stdout",
     "output_type": "stream",
     "text": [
      "[1, 2, 3, 4, 5, 'blub']\n"
     ]
    }
   ],
   "source": [
    "meine_liste.append(\"blub\")\n",
    "print(meine_liste)"
   ]
  },
  {
   "cell_type": "code",
   "execution_count": 4,
   "metadata": {
    "collapsed": true,
    "deletable": true,
    "editable": true
   },
   "outputs": [],
   "source": [
    "# Hole das nullte Element aus der Liste\n",
    "erste_element = meine_liste.pop(0)"
   ]
  },
  {
   "cell_type": "code",
   "execution_count": 5,
   "metadata": {
    "collapsed": false,
    "deletable": true,
    "editable": true
   },
   "outputs": [
    {
     "name": "stdout",
     "output_type": "stream",
     "text": [
      "1\n",
      "[2, 3, 4, 5, 'blub']\n"
     ]
    }
   ],
   "source": [
    "print(erste_element)\n",
    "print(meine_liste)"
   ]
  },
  {
   "cell_type": "code",
   "execution_count": 6,
   "metadata": {
    "collapsed": false,
    "deletable": true,
    "editable": true
   },
   "outputs": [
    {
     "name": "stdout",
     "output_type": "stream",
     "text": [
      "4\n"
     ]
    }
   ],
   "source": [
    "# Zugreifen auf ein ELement in der Liste, \n",
    "# ohne es zu löschen:\n",
    "\n",
    "print(meine_liste[2])"
   ]
  },
  {
   "cell_type": "code",
   "execution_count": 7,
   "metadata": {
    "collapsed": false,
    "deletable": true,
    "editable": true
   },
   "outputs": [
    {
     "name": "stdout",
     "output_type": "stream",
     "text": [
      "4\n"
     ]
    }
   ],
   "source": [
    "# An welcher Stelle in der Liste ist das Element \"blub\"?\n",
    "print(meine_liste.index(\"blub\"))"
   ]
  },
  {
   "cell_type": "code",
   "execution_count": 8,
   "metadata": {
    "collapsed": false,
    "deletable": true,
    "editable": true
   },
   "outputs": [
    {
     "name": "stdout",
     "output_type": "stream",
     "text": [
      "2\n"
     ]
    }
   ],
   "source": [
    "# .index findet immer nur ein Element (nämlich das erste)\n",
    "andere_liste = [\"a\", \"b\", \"blub\", \"c\", \"blub\"]\n",
    "print(andere_liste.index(\"blub\"))"
   ]
  },
  {
   "cell_type": "code",
   "execution_count": 9,
   "metadata": {
    "collapsed": false,
    "deletable": true,
    "editable": true
   },
   "outputs": [
    {
     "name": "stdout",
     "output_type": "stream",
     "text": [
      "blub\n"
     ]
    }
   ],
   "source": [
    "# letztes Element in der Liste\n",
    "print(andere_liste[-1])"
   ]
  },
  {
   "cell_type": "code",
   "execution_count": 10,
   "metadata": {
    "collapsed": false,
    "deletable": true,
    "editable": true
   },
   "outputs": [
    {
     "name": "stdout",
     "output_type": "stream",
     "text": [
      "2\n",
      "4\n",
      "[2, 4]\n"
     ]
    }
   ],
   "source": [
    "# Wir möchten alle Indices von \"blub\" finden\n",
    "\n",
    "andere_liste = [\"a\", \"b\", \"blub\", \"c\", \"blub\"]\n",
    "\n",
    "index = 0\n",
    "index_liste = []\n",
    "for element in andere_liste:\n",
    "    if element == \"blub\":\n",
    "        print(index)\n",
    "        index_liste.append(index)\n",
    "    index += 1\n",
    "print(index_liste)"
   ]
  },
  {
   "cell_type": "code",
   "execution_count": 11,
   "metadata": {
    "collapsed": false,
    "deletable": true,
    "editable": true
   },
   "outputs": [
    {
     "name": "stdout",
     "output_type": "stream",
     "text": [
      "[1, 2, 3, 'a', 'b', 'c']\n"
     ]
    }
   ],
   "source": [
    "# Listen verknüpfen\n",
    "liste_1 = [1, 2, 3]\n",
    "liste_2 = [\"a\", \"b\", \"c\"]\n",
    "\n",
    "print(liste_1 + liste_2)"
   ]
  },
  {
   "cell_type": "code",
   "execution_count": 12,
   "metadata": {
    "collapsed": false,
    "deletable": true,
    "editable": true
   },
   "outputs": [
    {
     "name": "stdout",
     "output_type": "stream",
     "text": [
      "True\n"
     ]
    }
   ],
   "source": [
    "# Prüfen, ob ein Element in der Liste ist:\n",
    "andere_liste = [\"a\", \"b\", \"blub\", \"c\", \"blub\"]\n",
    "\n",
    "# Ist \"blub\" in andere_liste?\n",
    "\n",
    "print(\"blub\" in andere_liste)\n"
   ]
  },
  {
   "cell_type": "code",
   "execution_count": 13,
   "metadata": {
    "collapsed": false,
    "deletable": true,
    "editable": true
   },
   "outputs": [
    {
     "name": "stdout",
     "output_type": "stream",
     "text": [
      "1\n",
      "2\n",
      "3\n"
     ]
    }
   ],
   "source": [
    "# Wir können for-Schleifen benutzen, um über jedes Elemente\n",
    "# in einer Liste zu iterieren\n",
    "\n",
    "liste = [1, 2, 3]\n",
    "for zahl in liste:\n",
    "    print(zahl)"
   ]
  },
  {
   "cell_type": "code",
   "execution_count": 14,
   "metadata": {
    "collapsed": false,
    "deletable": true,
    "editable": true
   },
   "outputs": [
    {
     "name": "stdout",
     "output_type": "stream",
     "text": [
      "An Stelle 0 : a\n",
      "An Stelle 1 : b\n",
      "An Stelle 2 : c\n"
     ]
    }
   ],
   "source": [
    "# Enumerate gibt einem zu jedem Element in einer Liste\n",
    "# zusätzlich noch den Index\n",
    "for index, element in enumerate([\"a\", \"b\", \"c\"]):\n",
    "    print(\"An Stelle\", index, \":\", element)"
   ]
  },
  {
   "cell_type": "code",
   "execution_count": 15,
   "metadata": {
    "collapsed": false,
    "deletable": true,
    "editable": true
   },
   "outputs": [
    {
     "name": "stdout",
     "output_type": "stream",
     "text": [
      "2\n",
      "4\n",
      "[2, 4]\n"
     ]
    }
   ],
   "source": [
    "# Nochmal das Bsp. mit den Indices von \"blub\":\n",
    "andere_liste = [\"a\", \"b\", \"blub\", \"c\", \"blub\"]\n",
    "\n",
    "index_liste = []\n",
    "for index, element in enumerate(andere_liste):\n",
    "    if element == \"blub\":\n",
    "        print(index)\n",
    "        index_liste.append(index)\n",
    "print(index_liste)"
   ]
  },
  {
   "cell_type": "code",
   "execution_count": 16,
   "metadata": {
    "collapsed": false,
    "deletable": true,
    "editable": true
   },
   "outputs": [
    {
     "name": "stdout",
     "output_type": "stream",
     "text": [
      "Time: 0 ; Concentration: 1.0\n",
      "Time: 20 ; Concentration: 0.88\n",
      "Time: 40 ; Concentration: 0.756\n",
      "Time: 60 ; Concentration: 0.656\n",
      "Time: 80 ; Concentration: 0.582\n",
      "Time: 100 ; Concentration: 0.495\n",
      "Time: 120 ; Concentration: 0.441\n",
      "Time: 140 ; Concentration: 0.387\n",
      "Time: 160 ; Concentration: 0.335\n",
      "Time: 180 ; Concentration: 0.294\n",
      "Time: 200 ; Concentration: 0.242\n",
      "Time: 220 ; Concentration: 0.219\n",
      "Time: 240 ; Concentration: 0.194\n",
      "Time: 260 ; Concentration: 0.166\n",
      "Time: 280 ; Concentration: 0.14\n",
      "Time: 300 ; Concentration: 0.13\n",
      "Time: 320 ; Concentration: 0.109\n",
      "Time: 340 ; Concentration: 0.099\n",
      "Time: 360 ; Concentration: 0.079\n",
      "Time: 380 ; Concentration: 0.078\n",
      "Time: 400 ; Concentration: 0.064\n"
     ]
    }
   ],
   "source": [
    "# Chemiker misst Konzentrationen:\n",
    "\n",
    "konzentrationen = [1.000,\n",
    "                   0.880,\n",
    "                   0.756,\n",
    "                   0.656,\n",
    "                   0.582,\n",
    "                   0.495,\n",
    "                   0.441,\n",
    "                   0.387,\n",
    "                   0.335,\n",
    "                   0.294,\n",
    "                   0.242,\n",
    "                   0.219,\n",
    "                   0.194,\n",
    "                   0.166,\n",
    "                   0.140,\n",
    "                   0.130,\n",
    "                   0.109,\n",
    "                   0.099,\n",
    "                   0.079,\n",
    "                   0.078,\n",
    "                   0.064\n",
    "                  ] \n",
    "\n",
    "for i, konz in enumerate(konzentrationen):\n",
    "    print(\"Time:\", i * 20, \"; Concentration:\", konz)\n"
   ]
  },
  {
   "cell_type": "code",
   "execution_count": 17,
   "metadata": {
    "collapsed": false,
    "deletable": true,
    "editable": true
   },
   "outputs": [
    {
     "name": "stdout",
     "output_type": "stream",
     "text": [
      "1\n",
      "2\n",
      "3\n"
     ]
    }
   ],
   "source": [
    "for i, elem in enumerate(list(\"abc\"), 1):\n",
    "    print(i)"
   ]
  },
  {
   "cell_type": "code",
   "execution_count": 18,
   "metadata": {
    "collapsed": false,
    "deletable": true,
    "editable": true
   },
   "outputs": [
    {
     "name": "stdout",
     "output_type": "stream",
     "text": [
      "[1, 4, 9, 16, 25, 36, 49, 64, 81, 100]\n"
     ]
    }
   ],
   "source": [
    "# Per Hand\n",
    "\n",
    "quadrat_zahlen = [1, 4, 9, 16, 26, 36, 49, 64, 81, 100]\n",
    "\n",
    "quadrat_zahlen[4] = 25\n",
    "\n",
    "print(quadrat_zahlen)"
   ]
  },
  {
   "cell_type": "code",
   "execution_count": 19,
   "metadata": {
    "collapsed": false,
    "deletable": true,
    "editable": true
   },
   "outputs": [
    {
     "name": "stdout",
     "output_type": "stream",
     "text": [
      "Die Zahl 26 ist falsch\n",
      "[1, 4, 9, 16, 25, 36, 49, 64, 81, 100]\n"
     ]
    }
   ],
   "source": [
    "# Vollautomatisch\n",
    "quadrat_zahlen = [1, 4, 9, 16, 26, 36, 49, 64, 81, 100]\n",
    "korrekte_liste = []\n",
    "\n",
    "for index, quadrat in enumerate(quadrat_zahlen, 1):\n",
    "    korrektes_quadrat = index * index\n",
    "    if quadrat != korrektes_quadrat:\n",
    "        print(\"Die Zahl\", quadrat, \"ist falsch\")\n",
    "        korrekte_liste.append(index * index)\n",
    "    else:\n",
    "        korrekte_liste.append(quadrat)\n",
    "\n",
    "print(korrekte_liste)"
   ]
  },
  {
   "cell_type": "code",
   "execution_count": 20,
   "metadata": {
    "collapsed": false,
    "deletable": true,
    "editable": true
   },
   "outputs": [
    {
     "name": "stdout",
     "output_type": "stream",
     "text": [
      "apfel kostet 0.4\n",
      "milch kostet 0.59\n",
      "banane kostet 0.3\n",
      "joghurt kostet 1.2\n",
      "käse kostet 2.3\n"
     ]
    }
   ],
   "source": [
    "# Zip ermöglicht das iterieren über mehrere Listen gleichzeitig:\n",
    "\n",
    "einkaufs_liste = [\"apfel\", \"milch\", \"banane\", \"joghurt\", \"käse\"]\n",
    "preise = [0.40, 0.59, 0.30, 1.20, 2.30]\n",
    "\n",
    "for element, preis in zip(einkaufs_liste, preise):\n",
    "    print(element, \"kostet\", preis)"
   ]
  },
  {
   "cell_type": "code",
   "execution_count": 21,
   "metadata": {
    "collapsed": false,
    "deletable": true,
    "editable": true
   },
   "outputs": [
    {
     "data": {
      "text/plain": [
       "[('apfel', 0.4),\n",
       " ('milch', 0.59),\n",
       " ('banane', 0.3),\n",
       " ('joghurt', 1.2),\n",
       " ('käse', 2.3)]"
      ]
     },
     "execution_count": 21,
     "metadata": {},
     "output_type": "execute_result"
    }
   ],
   "source": [
    "# Mithilfe von list können wir aus dem zip-Objekt eine Liste machen:\n",
    "\n",
    "list(zip(einkaufs_liste, preise))"
   ]
  },
  {
   "cell_type": "code",
   "execution_count": 22,
   "metadata": {
    "collapsed": false,
    "deletable": true,
    "editable": true
   },
   "outputs": [
    {
     "data": {
      "text/plain": [
       "1.234"
      ]
     },
     "execution_count": 22,
     "metadata": {},
     "output_type": "execute_result"
    }
   ],
   "source": [
    "float(\"1.234\")"
   ]
  },
  {
   "cell_type": "code",
   "execution_count": null,
   "metadata": {
    "collapsed": true,
    "deletable": true,
    "editable": true
   },
   "outputs": [],
   "source": []
  }
 ],
 "metadata": {
  "kernelspec": {
   "display_name": "Python 3",
   "language": "python",
   "name": "python3"
  },
  "language_info": {
   "codemirror_mode": {
    "name": "ipython",
    "version": 3
   },
   "file_extension": ".py",
   "mimetype": "text/x-python",
   "name": "python",
   "nbconvert_exporter": "python",
   "pygments_lexer": "ipython3",
   "version": "3.5.3"
  }
 },
 "nbformat": 4,
 "nbformat_minor": 2
}
