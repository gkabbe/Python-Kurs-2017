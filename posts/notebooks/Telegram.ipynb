{
 "cells": [
  {
   "cell_type": "markdown",
   "metadata": {},
   "source": [
    "# Einen Telegram Bot schreiben\n",
    "\n",
    "Hier soll möglichst knapp erklärt werden, wie man einen Telegram-Bot in Python schreibt.\n",
    "\n",
    "Ein Bot ist ein Programm, das Nachrichten von Telegram empfangen kann, und Nachrichten\n",
    "versenden kann.\n",
    "\n",
    "## Schritt 1: Telegram Bot in Telegram registrieren\n",
    "\n",
    "Um einen Telegram-Bot schreiben zu können, müssen wir ihn erstmal registrieren.\n",
    "\n",
    "Dafür müssen wir in Telegram in dem Suchfeld nach @BotFather suchen.\n",
    "\n",
    "Das ist ein von Telegram bereitgestellter Bot, über den man eigene Bots\n",
    "erstellen kann.\n",
    "\n",
    "Nachdem wir den BotFather per \n",
    "\n",
    "```\n",
    "/start\n",
    "```\n",
    "\n",
    "aktiviert haben, können wir per\n",
    "\n",
    "```\n",
    "/newbot\n",
    "```\n",
    "\n",
    "einen Dialog starten, um einen eigenen Bot zu erstellen.\n",
    "\n",
    "Nachdem wir Namen und Usernamen festgelegt haben, bekommen\n",
    "wir einen Token. \n",
    "\n",
    "Das ist das Passwort, das wir immer angeben\n",
    "müssen, um Nachrichten zu empfangen oder zu versenden.\n",
    "\n",
    "\n",
    "## Schritt 2: Unseren Bot in Telegram anschreiben\n",
    "\n",
    "Um Nachrichten von unserem Bot empfangen zu können, müssen wir den\n",
    "ersten Schritt machen und ihn in Telegram per\n",
    "\n",
    "```\n",
    "/start\n",
    "```\n",
    "\n",
    "aktivieren. \n",
    "\n",
    "Wenn wir das nicht machen, kann er uns keine Nachrichten\n",
    "senden!\n",
    "\n",
    "Danach schreiben wir ihm eine kurze Nachricht.\n",
    "\n",
    "Um ihn zu finden, suchen wir in dem Suchfeld in Telegram nach seinem Namen.\n",
    "\n",
    "\n",
    "## Schritt 3: Nachrichten an den Bot empfangen (im Browser)\n",
    "\n",
    "Um Nachrichten zu empfangen, die an unseren Bot gesendet wurden,\n",
    "müssen wir nur den Browser öffnen und folgende URL eingeben:\n",
    "\n",
    "```\n",
    "https://api.telegram.org/bot{token}/getUpdates?limit=1\n",
    "```\n",
    "\n",
    "{token} muss mit dem Token ersetzt werden, den wir zuvor erhalten haben.\n",
    "\n",
    "limit=1 begrenzt die erhaltenen Nachrichten auf die letzte, die gesendet wurde.\n",
    "\n",
    "Danach sollte sich eine Seite öffnen, in der die Nachricht steht, die wir\n",
    "dem Bot gesendet haben.\n",
    "\n",
    "Unter anderem sollte es ein Feld \"id\" geben, mit einer Nummer.\n",
    "\n",
    "Diese brauchen wir für Schritt 4, um als Bot eine Nachricht zu senden!\n",
    "\n",
    "\n",
    "## Schritt 4: Nachricht senden (im Browser)\n",
    "\n",
    "Eine Nachricht mit unserem Bot zu schreiben ist ganz einfach.\n",
    "\n",
    "Alles, was wir tun müssen, ist in einem Browser folgenden Link\n",
    "zu öffnen:\n",
    "\n",
    "```\n",
    "https://api.telegram.org/bot{token}/sendMessage?chat_id={id}&text={message}\n",
    "```\n",
    "\n",
    "Dabei ersetzen wir {token} mit dem Token, den wir zuvor erhalten haben, und\n",
    "{id} mit der id aus Schritt 3.\n",
    "\n",
    "Statt {text} können wir eine beliebige Nachricht schreiben.\n",
    "\n",
    "\n",
    "## Schritt 5: Nachrichten in Python senden und empfangen\n",
    "\n",
    "Jetzt wo wir wissen, dass wir Nachrichten senden und empfangen können, indem\n",
    "wir einfach bestimmte URLs öffnen, müssen wir nur noch herausfinden, wie wir\n",
    "das in Python machen können.\n",
    "\n",
    "Am einfachsten funktioniert das mit requests:"
   ]
  },
  {
   "cell_type": "code",
   "execution_count": null,
   "metadata": {
    "collapsed": true
   },
   "outputs": [],
   "source": [
    "import requests as req\n",
    "\n",
    "# Wenn hier der Token eingeben wird, wird\n",
    "# er automatisch in der unteren URL eingesetzt.\n",
    "token = \"\"\n",
    "\n",
    "antwort = req.get(f\"https://api.telegram.org/bot{token}/getUpdates?limit=1\")\n",
    "print(antwort.text)"
   ]
  },
  {
   "cell_type": "markdown",
   "metadata": {},
   "source": [
    "Wir sehen, dass die erhaltene Antwort so aussieht wie im Browser.\n",
    "\n",
    "Um mit den Daten einfach in Python arbeiten zu können, können wir sie in JSON umwandeln."
   ]
  },
  {
   "cell_type": "code",
   "execution_count": null,
   "metadata": {
    "collapsed": true
   },
   "outputs": [],
   "source": [
    "antwort_json = antwort.json()"
   ]
  },
  {
   "cell_type": "markdown",
   "metadata": {},
   "source": [
    "antwort_json besteht aus geschachtelten Dictionaries.\n",
    "\n",
    "Die Informationen die uns interessieren, sind\n",
    "der Text und die Person, von der die Nachricht stammt.\n",
    "\n",
    "**Aufgabe**: Extrahieren Sie Name und Text aus antwort_json!"
   ]
  },
  {
   "cell_type": "markdown",
   "metadata": {},
   "source": [
    "Wir können jetzt ein kleines Skript schreiben, das in regelmäßigen Abständen prüft,\n",
    "ob eine neue Nachricht eingetroffen ist, und in diesem Fall ein \"Hallo\" sendet."
   ]
  },
  {
   "cell_type": "code",
   "execution_count": null,
   "metadata": {
    "collapsed": true
   },
   "outputs": [],
   "source": [
    "import time\n",
    "\n",
    "\n",
    "def get_message():\n",
    "    ...\n",
    "\n",
    "\n",
    "def send_message(text, user_id):\n",
    "    ...\n",
    "\n",
    "\n",
    "while True:\n",
    "    user_message = get_message()\n",
    "    if \"Hallo\" in user_message:\n",
    "        send_message(\"Hallo\")\n",
    "        break\n",
    "    time.sleep(1)"
   ]
  },
  {
   "cell_type": "markdown",
   "metadata": {},
   "source": [
    "Der obige Code funktioniert so natürlich noch nicht.\n",
    "\n",
    "Schreiben Sie die Funktionen get_message und send_message, so dass \n",
    "Ihr erster Bot funktioniert!"
   ]
  }
 ],
 "metadata": {
  "celltoolbar": "Tags",
  "kernelspec": {
   "display_name": "Python 3",
   "language": "python",
   "name": "python3"
  },
  "language_info": {
   "codemirror_mode": {
    "name": "ipython",
    "version": 3
   },
   "file_extension": ".py",
   "mimetype": "text/x-python",
   "name": "python",
   "nbconvert_exporter": "python",
   "pygments_lexer": "ipython3",
   "version": "3.6.2"
  }
 },
 "nbformat": 4,
 "nbformat_minor": 2
}
