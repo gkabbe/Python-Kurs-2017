{
 "cells": [
  {
   "cell_type": "markdown",
   "metadata": {},
   "source": [
    "# Zusammenfassung"
   ]
  },
  {
   "cell_type": "markdown",
   "metadata": {},
   "source": [
    "## For - Schleifen\n",
    "\n",
    "For - Schleifen lassen sich mit allem benutzen, über das man iterieren kann.\n",
    "\n",
    "* range"
   ]
  },
  {
   "cell_type": "code",
   "execution_count": 1,
   "metadata": {},
   "outputs": [
    {
     "name": "stdout",
     "output_type": "stream",
     "text": [
      "0\n",
      "1\n",
      "2\n",
      "3\n",
      "4\n"
     ]
    }
   ],
   "source": [
    "for x in range(5):\n",
    "    print(x)"
   ]
  },
  {
   "cell_type": "markdown",
   "metadata": {},
   "source": [
    "* Listen"
   ]
  },
  {
   "cell_type": "code",
   "execution_count": 2,
   "metadata": {},
   "outputs": [
    {
     "name": "stdout",
     "output_type": "stream",
     "text": [
      "1\n",
      "2\n",
      "3\n"
     ]
    }
   ],
   "source": [
    "for x in [1, 2, 3]:  # <-- x ist ein beliebiger Name\n",
    "    print(x)"
   ]
  },
  {
   "cell_type": "markdown",
   "metadata": {},
   "source": [
    "* Strings"
   ]
  },
  {
   "cell_type": "code",
   "execution_count": 3,
   "metadata": {},
   "outputs": [
    {
     "name": "stdout",
     "output_type": "stream",
     "text": [
      "H\n",
      "a\n",
      "l\n",
      "l\n",
      "o\n"
     ]
    }
   ],
   "source": [
    "for x in \"Hallo\":\n",
    "    print(x)"
   ]
  },
  {
   "cell_type": "markdown",
   "metadata": {},
   "source": [
    "* Dateien"
   ]
  },
  {
   "cell_type": "code",
   "execution_count": null,
   "metadata": {},
   "outputs": [],
   "source": [
    "# Geht natürlich nur wenn eine Datei \"dateiname.txt\" existiert\n",
    "with open(\"dateiname.txt\", \"r\") as datei:\n",
    "    for x in datei:\n",
    "        print(x)"
   ]
  },
  {
   "cell_type": "markdown",
   "metadata": {},
   "source": [
    "* Sets"
   ]
  },
  {
   "cell_type": "code",
   "execution_count": 5,
   "metadata": {},
   "outputs": [
    {
     "name": "stdout",
     "output_type": "stream",
     "text": [
      "1\n",
      "2\n",
      "3\n"
     ]
    }
   ],
   "source": [
    "for x in {1, 1, 2, 2, 3, 3}:\n",
    "    print(x)"
   ]
  },
  {
   "cell_type": "markdown",
   "metadata": {},
   "source": [
    "* Dictionaries"
   ]
  },
  {
   "cell_type": "code",
   "execution_count": 6,
   "metadata": {},
   "outputs": [
    {
     "name": "stdout",
     "output_type": "stream",
     "text": [
      "a\n",
      "b\n",
      "c\n"
     ]
    }
   ],
   "source": [
    "for x in {\"a\": 1, \"b\": 2, \"c\": 3}:\n",
    "    print(x)"
   ]
  },
  {
   "cell_type": "markdown",
   "metadata": {},
   "source": [
    "* und viele mehr. Im Zweifel einfach ausprobieren"
   ]
  },
  {
   "cell_type": "markdown",
   "metadata": {},
   "source": [
    "## Datenstrukturen"
   ]
  },
  {
   "cell_type": "markdown",
   "metadata": {},
   "source": [
    "### Listen\n",
    "\n",
    "Listen sind immer dann nützlich wenn man viele ähnliche Dinge verarbeiten will, und dabei die Reihenfolge\n",
    "noch entscheidend ist.\n",
    "\n",
    "Z.B: Messdaten"
   ]
  },
  {
   "cell_type": "code",
   "execution_count": 7,
   "metadata": {
    "collapsed": true
   },
   "outputs": [],
   "source": [
    "meine_liste = [\"a\", \"b\", \"c\", \"d\", \"e\"]"
   ]
  },
  {
   "cell_type": "markdown",
   "metadata": {},
   "source": [
    "Listen haben diverse Methoden, mit denen man ihren Inhalt verändern kann.\n",
    "\n",
    "* append (hängt ein Element hinten an die Liste an)"
   ]
  },
  {
   "cell_type": "code",
   "execution_count": 8,
   "metadata": {},
   "outputs": [
    {
     "name": "stdout",
     "output_type": "stream",
     "text": [
      "['a', 'b', 'c', 'd', 'e', 'a']\n"
     ]
    }
   ],
   "source": [
    "meine_liste.append(\"a\")\n",
    "print(meine_liste)"
   ]
  },
  {
   "cell_type": "markdown",
   "metadata": {},
   "source": [
    "* pop (entfernt ein Element an der angegebenen Stelle)"
   ]
  },
  {
   "cell_type": "code",
   "execution_count": 9,
   "metadata": {},
   "outputs": [
    {
     "name": "stdout",
     "output_type": "stream",
     "text": [
      "Entfernt: b\n",
      "['a', 'c', 'd', 'e', 'a']\n"
     ]
    }
   ],
   "source": [
    "entferntes_element = meine_liste.pop(1)\n",
    "print(\"Entfernt:\", entferntes_element)\n",
    "print(meine_liste)"
   ]
  },
  {
   "cell_type": "markdown",
   "metadata": {},
   "source": [
    "* remove (entfernt das angegebene Element wenn es das erste mal auftaucht)"
   ]
  },
  {
   "cell_type": "code",
   "execution_count": 10,
   "metadata": {},
   "outputs": [
    {
     "name": "stdout",
     "output_type": "stream",
     "text": [
      "['a', 'c', 'e', 'a']\n"
     ]
    }
   ],
   "source": [
    "meine_liste.remove(\"d\")\n",
    "print(meine_liste)"
   ]
  },
  {
   "cell_type": "markdown",
   "metadata": {},
   "source": [
    "* count (zählt, wie oft ein Element in der Liste auftaucht)"
   ]
  },
  {
   "cell_type": "code",
   "execution_count": 11,
   "metadata": {},
   "outputs": [
    {
     "data": {
      "text/plain": [
       "2"
      ]
     },
     "execution_count": 11,
     "metadata": {},
     "output_type": "execute_result"
    }
   ],
   "source": [
    "meine_liste.count(\"a\")"
   ]
  },
  {
   "cell_type": "markdown",
   "metadata": {},
   "source": [
    "* reverse (kehrt die Reihenfolge der Liste um)"
   ]
  },
  {
   "cell_type": "code",
   "execution_count": 12,
   "metadata": {},
   "outputs": [
    {
     "name": "stdout",
     "output_type": "stream",
     "text": [
      "['a', 'e', 'c', 'a']\n"
     ]
    }
   ],
   "source": [
    "meine_liste.reverse()\n",
    "print(meine_liste)"
   ]
  },
  {
   "cell_type": "markdown",
   "metadata": {},
   "source": [
    "Dabei geht die alte Reihenfolge verloren!\n",
    "Wer stattdessen eine neue Liste möchte, ohne die alte zu verändern,\n",
    "kann reversed benutzen:"
   ]
  },
  {
   "cell_type": "code",
   "execution_count": 13,
   "metadata": {},
   "outputs": [
    {
     "name": "stdout",
     "output_type": "stream",
     "text": [
      "['a', 'c', 'e', 'a']\n"
     ]
    }
   ],
   "source": [
    "umgedrehte_liste = list(reversed(meine_liste))  # meine_liste verändert sich dabei nicht\n",
    "print(umgedrehte_liste)"
   ]
  },
  {
   "cell_type": "markdown",
   "metadata": {},
   "source": [
    "* sort (sortiert die Liste)"
   ]
  },
  {
   "cell_type": "code",
   "execution_count": 14,
   "metadata": {},
   "outputs": [
    {
     "name": "stdout",
     "output_type": "stream",
     "text": [
      "['a', 'a', 'c', 'e']\n"
     ]
    }
   ],
   "source": [
    "meine_liste.sort()\n",
    "print(meine_liste)"
   ]
  },
  {
   "cell_type": "markdown",
   "metadata": {},
   "source": [
    "Die alte Sortierung geht dabei verloren!\n",
    "Alternative: sorted"
   ]
  },
  {
   "cell_type": "code",
   "execution_count": 15,
   "metadata": {},
   "outputs": [
    {
     "name": "stdout",
     "output_type": "stream",
     "text": [
      "['a', 'c', 'e', 'x']\n"
     ]
    }
   ],
   "source": [
    "unsortierte_liste = [\"x\", \"c\", \"a\", \"e\"]\n",
    "sortierte_liste = sorted(unsortierte_liste)\n",
    "print(sortierte_liste)"
   ]
  },
  {
   "cell_type": "markdown",
   "metadata": {},
   "source": [
    "### Sets\n",
    "\n",
    "Eine ungeordnete Sammlung von unterscheidbaren Objekten\n",
    "(siehe https://de.wikipedia.org/wiki/Menge_(Mathematik))\n",
    "\n",
    "Wird man vermutlich seltener brauchen als z.B. Listen.\n",
    "\n",
    "Anwendungen sind z.B. das Entfernen von mehrfach enthaltenen Elementen aus einer Liste:"
   ]
  },
  {
   "cell_type": "code",
   "execution_count": 16,
   "metadata": {},
   "outputs": [
    {
     "name": "stdout",
     "output_type": "stream",
     "text": [
      "['d', 'a', 'c', 'e', 'b']\n"
     ]
    }
   ],
   "source": [
    "liste_mit_duplikaten = ['a', 'b', 'c', 'a', 'a', 'a', 'b', 'd', 'b', 'b', 'b', 'c', 'c', 'e']\n",
    "menge = set(liste_mit_duplikaten)\n",
    "liste_ohne_duplikate = list(menge)\n",
    "print(liste_ohne_duplikate)"
   ]
  },
  {
   "cell_type": "markdown",
   "metadata": {},
   "source": [
    "Außerdem: Mengenoperationen wie Schnitt, Vereinigung, Differenz, ..."
   ]
  },
  {
   "cell_type": "markdown",
   "metadata": {},
   "source": [
    "### Dictionaries\n",
    "\n",
    "Eine Art Wörterbuch. Speichert Paare von Schlüsseln und Werten.\n",
    "Kennt man den Schlüssel, kann man auf den Wert zugreifen.\n",
    "Praktisch, um Dinge mit mehreren Attributen zu speichern.\n",
    "\n",
    "Beispiele:\n",
    "\n",
    "#### Patient"
   ]
  },
  {
   "cell_type": "code",
   "execution_count": 17,
   "metadata": {},
   "outputs": [
    {
     "name": "stdout",
     "output_type": "stream",
     "text": [
      "Patient Hans Müller hat folgende Beschwerden:\n",
      "Kopfweh Rücken Magenschmerzen "
     ]
    }
   ],
   "source": [
    "patient = {\"Vorname\": \"Hans\",\n",
    "           \"Name\": \"Müller\",\n",
    "           \"Alter\": 75,\n",
    "           \"Beschwerden\": [\"Kopfweh\", \"Rücken\", \"Magenschmerzen\"]}\n",
    "\n",
    "print(\"Patient\", patient[\"Vorname\"], patient[\"Name\"], \"hat folgende Beschwerden:\")\n",
    "for beschwerde in patient[\"Beschwerden\"]:\n",
    "    print(beschwerde, end=\" \")"
   ]
  },
  {
   "cell_type": "markdown",
   "metadata": {},
   "source": [
    "#### Atom"
   ]
  },
  {
   "cell_type": "code",
   "execution_count": 18,
   "metadata": {},
   "outputs": [
    {
     "name": "stdout",
     "output_type": "stream",
     "text": [
      "{'Element': 'H', 'Name': 'Wasserstoff', 'Atommasse': 1.008}\n"
     ]
    }
   ],
   "source": [
    "atom = {\"Element\": \"H\",\n",
    "        \"Name\": \"Wasserstoff\",\n",
    "        \"Atommasse\": 1.008}\n",
    "\n",
    "print(atom)"
   ]
  },
  {
   "cell_type": "markdown",
   "metadata": {
    "collapsed": true
   },
   "source": [
    "* Auf einen Wert zugreifen:"
   ]
  },
  {
   "cell_type": "code",
   "execution_count": 19,
   "metadata": {},
   "outputs": [
    {
     "name": "stdout",
     "output_type": "stream",
     "text": [
      "H\n"
     ]
    }
   ],
   "source": [
    "print(atom[\"Element\"])"
   ]
  },
  {
   "cell_type": "markdown",
   "metadata": {},
   "source": [
    "* Einen Wert ändern:"
   ]
  },
  {
   "cell_type": "code",
   "execution_count": 20,
   "metadata": {},
   "outputs": [
    {
     "name": "stdout",
     "output_type": "stream",
     "text": [
      "{'Element': 'C', 'Name': 'Wasserstoff', 'Atommasse': 1.008}\n"
     ]
    }
   ],
   "source": [
    "atom[\"Element\"] = \"C\"\n",
    "print(atom)"
   ]
  },
  {
   "cell_type": "markdown",
   "metadata": {},
   "source": [
    "* Über alle Schlüssel iterieren:"
   ]
  },
  {
   "cell_type": "code",
   "execution_count": 21,
   "metadata": {},
   "outputs": [
    {
     "name": "stdout",
     "output_type": "stream",
     "text": [
      "Element\n",
      "Name\n",
      "Atommasse\n",
      "Element\n",
      "Name\n",
      "Atommasse\n"
     ]
    }
   ],
   "source": [
    "for schlüssel in atom.keys():\n",
    "    print(schlüssel)\n",
    "    \n",
    "# Oder\n",
    "\n",
    "for schlüssel in atom:\n",
    "    print(schlüssel)"
   ]
  },
  {
   "cell_type": "markdown",
   "metadata": {},
   "source": [
    "* Über alle Werte iterieren:"
   ]
  },
  {
   "cell_type": "code",
   "execution_count": 22,
   "metadata": {},
   "outputs": [
    {
     "name": "stdout",
     "output_type": "stream",
     "text": [
      "C\n",
      "Wasserstoff\n",
      "1.008\n"
     ]
    }
   ],
   "source": [
    "for value in atom.values():\n",
    "    print(value)"
   ]
  },
  {
   "cell_type": "markdown",
   "metadata": {},
   "source": [
    "* Über Schlüssel und Wert gleichzeitig iterieren:"
   ]
  },
  {
   "cell_type": "code",
   "execution_count": 23,
   "metadata": {},
   "outputs": [
    {
     "name": "stdout",
     "output_type": "stream",
     "text": [
      "Element -> C\n",
      "Name -> Wasserstoff\n",
      "Atommasse -> 1.008\n"
     ]
    }
   ],
   "source": [
    "for key, value in atom.items():\n",
    "    print(key, \"->\", value)"
   ]
  },
  {
   "cell_type": "markdown",
   "metadata": {},
   "source": [
    "* Ein Element entfernen"
   ]
  },
  {
   "cell_type": "code",
   "execution_count": 24,
   "metadata": {},
   "outputs": [
    {
     "name": "stdout",
     "output_type": "stream",
     "text": [
      "Wasserstoff\n",
      "{'Element': 'C', 'Atommasse': 1.008}\n"
     ]
    }
   ],
   "source": [
    "name = atom.pop(\"Name\")\n",
    "print(name)\n",
    "print(atom)"
   ]
  },
  {
   "cell_type": "markdown",
   "metadata": {},
   "source": [
    "## Funktionen\n",
    "\n",
    "Funktionen helfen, den Code besser zu gliedern.\n",
    "Wenn man beispielsweise dreimal in seinem Skript eine Datei öffnet und ausliest, ist es vermutlich sinnvoll, eine Funktion dafür zu schreiben. Damit vermeidet man, sich zu wiederholen. Das reduziert wiederum die Anzahl der geschriebenen Code-Zeilen und damit die Wahrscheinlichkeit für fehlerhaften Code."
   ]
  },
  {
   "cell_type": "markdown",
   "metadata": {},
   "source": [
    "#### Schlechtes Beispiel:"
   ]
  },
  {
   "cell_type": "code",
   "execution_count": null,
   "metadata": {},
   "outputs": [],
   "source": [
    "with open(\"datei1\", \"r\") as f:\n",
    "    for line in f:\n",
    "        print(line)\n",
    "\n",
    "with open(\"datei2\", \"r\") as f:\n",
    "    for line in f:\n",
    "        print(line)\n",
    "\n",
    "with open(\"datei3\", \"r\") as f:\n",
    "    for line in f:\n",
    "        print(line)"
   ]
  },
  {
   "cell_type": "markdown",
   "metadata": {},
   "source": [
    "#### Besser: Mit Funktion"
   ]
  },
  {
   "cell_type": "code",
   "execution_count": null,
   "metadata": {},
   "outputs": [],
   "source": [
    "def lies_datei(dateiname):\n",
    "    with open(dateiname, \"r\") as f:\n",
    "        for line in f:\n",
    "            print(line)\n",
    "\n",
    "lies_datei(\"datei1\")\n",
    "lies_datei(\"datei2\")\n",
    "lies_datei(\"datei3\")"
   ]
  },
  {
   "cell_type": "markdown",
   "metadata": {},
   "source": [
    "Funktionen können Parameter haben (Werte, die man ihnen beim Funktionsaufruf mitgibt, wie im obigen Beispiel\n",
    "die Variable ```dateiname```).\n",
    "\n",
    "Funktionen können Rückgabewerte haben."
   ]
  },
  {
   "cell_type": "markdown",
   "metadata": {},
   "source": [
    "#### Funktion mit Parametern und Rückgabewert:"
   ]
  },
  {
   "cell_type": "code",
   "execution_count": 27,
   "metadata": {
    "collapsed": true
   },
   "outputs": [],
   "source": [
    "def f(x):            # <- x ist der Parameter\n",
    "    return x + 5     # <- durch das return hat die Funktion einen Rückgabewert\n",
    "\n",
    "rückgabewert = f(5)  # bei Funktionsaufruf, gibt die Funktion einen Wert zurück, den\n",
    "                     # wir dann weiter verarbeiten können"
   ]
  },
  {
   "cell_type": "markdown",
   "metadata": {},
   "source": [
    "#### Funktion mit Parametern, aber ohne Rückgabewert"
   ]
  },
  {
   "cell_type": "code",
   "execution_count": 28,
   "metadata": {
    "collapsed": true
   },
   "outputs": [],
   "source": [
    "def hallo(name):\n",
    "    print(\"Hallo\", name)"
   ]
  },
  {
   "cell_type": "markdown",
   "metadata": {},
   "source": [
    "#### Funktion ohne Parameter, aber Rückgabewert"
   ]
  },
  {
   "cell_type": "code",
   "execution_count": 29,
   "metadata": {
    "collapsed": true
   },
   "outputs": [],
   "source": [
    "def f():\n",
    "    return 5"
   ]
  },
  {
   "cell_type": "markdown",
   "metadata": {},
   "source": [
    "#### Funktion ohne Parameter und ohne Rückgabewert"
   ]
  },
  {
   "cell_type": "code",
   "execution_count": 30,
   "metadata": {
    "collapsed": true
   },
   "outputs": [],
   "source": [
    "def f():\n",
    "    print(\"Hallo\")"
   ]
  }
 ],
 "metadata": {
  "kernelspec": {
   "display_name": "Python 3",
   "language": "python",
   "name": "python3"
  },
  "language_info": {
   "codemirror_mode": {
    "name": "ipython",
    "version": 3
   },
   "file_extension": ".py",
   "mimetype": "text/x-python",
   "name": "python",
   "nbconvert_exporter": "python",
   "pygments_lexer": "ipython3",
   "version": "3.6.1"
  }
 },
 "nbformat": 4,
 "nbformat_minor": 2
}
