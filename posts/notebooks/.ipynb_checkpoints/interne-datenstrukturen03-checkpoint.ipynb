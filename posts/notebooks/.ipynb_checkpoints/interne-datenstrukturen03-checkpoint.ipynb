{
 "cells": [
  {
   "cell_type": "markdown",
   "metadata": {},
   "source": [
    "# Dictionaries"
   ]
  },
  {
   "cell_type": "markdown",
   "metadata": {},
   "source": [
    "Dictionaries sind Datenstrukturen, die aus Schlüssel-Werte-Paaren bestehen.\n",
    "Zu jedem Schlüssel wird ein Wert gespeichert. Über den Schlüssel kann man auf den Wert zugreifen.\n",
    "\n",
    "## Beispiele:\n",
    "\n",
    "### Telefonbuch\n",
    "\n",
    "Der Name einer Person ist der Schlüssel, über den man auf den Wert (die Telefonnummer) zugreifen kann.\n",
    "\n",
    "\n",
    "### Deutsch - Englisch Wörterbuch\n",
    "\n",
    "Schlüssel sind die deutschen Wörter. Jedem deutschen Wort wird ein englisches Wort zugewiesen.\n"
   ]
  },
  {
   "cell_type": "code",
   "execution_count": 1,
   "metadata": {
    "collapsed": true
   },
   "outputs": [],
   "source": [
    "# Hier sind die Schlüssel \"a\", \"b\" und \"c\"\n",
    "# Die entsprechenden Werte 1, 2 und 3\n",
    "\n",
    "mein_dict = {\"a\": 1, \"b\": 2, \"c\": 3}"
   ]
  },
  {
   "cell_type": "code",
   "execution_count": 2,
   "metadata": {
    "collapsed": true
   },
   "outputs": [],
   "source": [
    "# Hier sind die Schlüssel 1, 2 und 3\n",
    "# Die entsprechenden Werte \"a\", \"b\" und \"c\"\n",
    "mein_dict2 = {1: \"a\", 2: \"b\", 3: \"c\"}"
   ]
  },
  {
   "cell_type": "code",
   "execution_count": 3,
   "metadata": {
    "collapsed": false
   },
   "outputs": [
    {
     "data": {
      "text/plain": [
       "'c'"
      ]
     },
     "execution_count": 3,
     "metadata": {},
     "output_type": "execute_result"
    }
   ],
   "source": [
    "# Trägt man in den eckigen Klammern einen Schlüssel ein, so bekommt man\n",
    "# einen Wert zurück\n",
    "\n",
    "mein_dict2[3]"
   ]
  },
  {
   "cell_type": "code",
   "execution_count": 4,
   "metadata": {
    "collapsed": true
   },
   "outputs": [],
   "source": [
    "# Falls es diesen Schlüssel noch gar nicht gibt, kann man auch neue Werte eintragen:\n",
    "\n",
    "mein_dict[\"neuer_schlüssel\"] = \"neuer_wert\"\n",
    "\n",
    "# Man kann auch vorhandene Werte überschreiben\n",
    "\n",
    "mein_dict[\"a\"] = 123"
   ]
  },
  {
   "cell_type": "code",
   "execution_count": 5,
   "metadata": {
    "collapsed": false
   },
   "outputs": [
    {
     "name": "stdout",
     "output_type": "stream",
     "text": [
      "c -> 3\n",
      "neuer_schlüssel -> neuer_wert\n",
      "a -> 123\n",
      "b -> 2\n"
     ]
    }
   ],
   "source": [
    "# Man kann über die Key-Value Paare eines Dictionaries iterieren:\n",
    "# Dazu muss man die Methode .items() aufrufen\n",
    "# In jedem Schleifendurchlauf bekommt man dann einen Schlüssel und einen Wert geliefert\n",
    "for key, value in mein_dict.items():\n",
    "    print(key, \"->\", value)"
   ]
  },
  {
   "cell_type": "code",
   "execution_count": 6,
   "metadata": {
    "collapsed": false
   },
   "outputs": [
    {
     "name": "stdout",
     "output_type": "stream",
     "text": [
      "c\n",
      "neuer_schlüssel\n",
      "a\n",
      "b\n"
     ]
    }
   ],
   "source": [
    "# Iteriert man direkt über das Dictionary (ohne .items()), \n",
    "# so erhält man nur die Schlüssel\n",
    "\n",
    "for key in mein_dict:\n",
    "    print(key)"
   ]
  },
  {
   "cell_type": "code",
   "execution_count": 7,
   "metadata": {
    "collapsed": false
   },
   "outputs": [
    {
     "name": "stdout",
     "output_type": "stream",
     "text": [
      "Entferne 123 aus dem Dictionary\n",
      "Übrig bleibt {'c': 3, 'neuer_schlüssel': 'neuer_wert', 'b': 2}\n"
     ]
    }
   ],
   "source": [
    "# Wie bei Listen gibt es auch bei Dictionaries die .pop Methode.\n",
    "# Damit kann man ein Element aus dem Dictionary entfernen:\n",
    "\n",
    "entferntes_element = mein_dict.pop(\"a\")\n",
    "print(\"Entferne\",entferntes_element, \"aus dem Dictionary\")\n",
    "print(\"Übrig bleibt\", mein_dict)"
   ]
  },
  {
   "cell_type": "markdown",
   "metadata": {},
   "source": [
    "# List Comprehensions"
   ]
  },
  {
   "cell_type": "markdown",
   "metadata": {},
   "source": [
    "## Trick, um Listen zu erstellen"
   ]
  },
  {
   "cell_type": "markdown",
   "metadata": {},
   "source": [
    "### Ziel: Liste mit geraden Zahlen von Null bis Zwanzig erstellen"
   ]
  },
  {
   "cell_type": "code",
   "execution_count": 8,
   "metadata": {
    "collapsed": false
   },
   "outputs": [
    {
     "name": "stdout",
     "output_type": "stream",
     "text": [
      "[0, 2, 4, 6, 8, 10, 12, 14, 16, 18, 20]\n"
     ]
    }
   ],
   "source": [
    "# Methode 1\n",
    "\n",
    "liste = []\n",
    "a = 0\n",
    "for i in range(11):\n",
    "    liste.append(a)\n",
    "    a += 2\n",
    "\n",
    "print(liste)\n",
    "    "
   ]
  },
  {
   "cell_type": "code",
   "execution_count": 9,
   "metadata": {
    "collapsed": false
   },
   "outputs": [
    {
     "name": "stdout",
     "output_type": "stream",
     "text": [
      "[0, 2, 4, 6, 8, 10, 12, 14, 16, 18, 20]\n"
     ]
    }
   ],
   "source": [
    "# Methode 2\n",
    "\n",
    "liste = []\n",
    "\n",
    "for i in range(0, 21):\n",
    "    if i % 2 == 0:\n",
    "        liste.append(i)\n",
    "\n",
    "print(liste)"
   ]
  },
  {
   "cell_type": "markdown",
   "metadata": {},
   "source": [
    "### Relativ viel Code, um die Liste zu schreiben"
   ]
  },
  {
   "cell_type": "code",
   "execution_count": 10,
   "metadata": {
    "collapsed": true
   },
   "outputs": [],
   "source": [
    "# List Comprehension\n",
    "\n",
    "gerade_zahlen = [i for i in range(21) if i % 2 == 0]\n",
    "\n",
    "# oder\n",
    "\n",
    "gerade_zahlen = [2 * i for i in range(11)]"
   ]
  },
  {
   "cell_type": "code",
   "execution_count": 11,
   "metadata": {
    "collapsed": false
   },
   "outputs": [
    {
     "data": {
      "text/plain": [
       "[0, 2, 4, 6, 8, 10, 12, 14, 16, 18, 20]"
      ]
     },
     "execution_count": 11,
     "metadata": {},
     "output_type": "execute_result"
    }
   ],
   "source": [
    "gerade_zahlen"
   ]
  },
  {
   "cell_type": "markdown",
   "metadata": {},
   "source": [
    "### Funktioniert auch mit Sets und Dictionaries:"
   ]
  },
  {
   "cell_type": "markdown",
   "metadata": {},
   "source": [
    "### Set Comprehension"
   ]
  },
  {
   "cell_type": "code",
   "execution_count": 12,
   "metadata": {
    "collapsed": false
   },
   "outputs": [
    {
     "name": "stdout",
     "output_type": "stream",
     "text": [
      "{0, 2, 4, 6, 8, 10, 12, 14, 16, 18, 20}\n"
     ]
    }
   ],
   "source": [
    "menge_der_geraden_zahlen = {2 * i for i in range(11)}\n",
    "print(menge_der_geraden_zahlen)"
   ]
  },
  {
   "cell_type": "code",
   "execution_count": 13,
   "metadata": {
    "collapsed": false
   },
   "outputs": [
    {
     "name": "stdout",
     "output_type": "stream",
     "text": [
      "{0: 0, 1: 1, 2: 4, 3: 9, 4: 16, 5: 25, 6: 36, 7: 49, 8: 64, 9: 81, 10: 100}\n"
     ]
    }
   ],
   "source": [
    "### Dictionary Comprehension\n",
    "quadrat_zahl_dict = {i: i**2 for i in range(11)}\n",
    "print(quadrat_zahl_dict)"
   ]
  },
  {
   "cell_type": "code",
   "execution_count": 14,
   "metadata": {
    "collapsed": false
   },
   "outputs": [
    {
     "name": "stdout",
     "output_type": "stream",
     "text": [
      "0 hoch 2 = 0\n",
      "1 hoch 2 = 1\n",
      "2 hoch 2 = 4\n",
      "3 hoch 2 = 9\n",
      "4 hoch 2 = 16\n",
      "5 hoch 2 = 25\n",
      "6 hoch 2 = 36\n",
      "7 hoch 2 = 49\n",
      "8 hoch 2 = 64\n",
      "9 hoch 2 = 81\n",
      "10 hoch 2 = 100\n"
     ]
    }
   ],
   "source": [
    "for key, value in quadrat_zahl_dict.items():\n",
    "    print(key, \"hoch 2 =\", value)"
   ]
  },
  {
   "cell_type": "code",
   "execution_count": 15,
   "metadata": {
    "collapsed": false
   },
   "outputs": [
    {
     "name": "stdout",
     "output_type": "stream",
     "text": [
      "<class 'dict'>\n"
     ]
    }
   ],
   "source": [
    "a = {1: \"a\", 2: \"b\", 3: \"c\"}\n",
    "print(type(a))"
   ]
  },
  {
   "cell_type": "code",
   "execution_count": 16,
   "metadata": {
    "collapsed": false
   },
   "outputs": [
    {
     "name": "stdout",
     "output_type": "stream",
     "text": [
      "0 -> 0\n",
      "1 -> 1\n",
      "2 -> 4\n",
      "3 -> 9\n",
      "4 -> 16\n",
      "5 -> 25\n",
      "6 -> 36\n",
      "7 -> 49\n",
      "8 -> 64\n",
      "9 -> 81\n",
      "10 -> 100\n"
     ]
    }
   ],
   "source": [
    "for key, value in quadrat_zahl_dict.items():\n",
    "    print(key, \"->\", value)"
   ]
  },
  {
   "cell_type": "code",
   "execution_count": 17,
   "metadata": {
    "collapsed": false
   },
   "outputs": [
    {
     "name": "stdout",
     "output_type": "stream",
     "text": [
      "{}\n"
     ]
    }
   ],
   "source": [
    "dict1 = dict()  # benutze dict() um ein leeres Dictionary zu erstellen\n",
    "print(dict1)"
   ]
  },
  {
   "cell_type": "code",
   "execution_count": 18,
   "metadata": {
    "collapsed": true
   },
   "outputs": [],
   "source": [
    "dict1[\"erster_key\"] = 5\n",
    "dict1[\"zweiter_key\"] = 19"
   ]
  },
  {
   "cell_type": "code",
   "execution_count": 19,
   "metadata": {
    "collapsed": true
   },
   "outputs": [],
   "source": [
    "englisch_deutsch_dict = {\"hello\": \"hallo\", \"world\": \"welt\", \"good bye\": \"auf wiedersehen\"}"
   ]
  },
  {
   "cell_type": "code",
   "execution_count": 20,
   "metadata": {
    "collapsed": true
   },
   "outputs": [],
   "source": [
    "deutsch_englisch_dict = dict()"
   ]
  },
  {
   "cell_type": "code",
   "execution_count": 21,
   "metadata": {
    "collapsed": true
   },
   "outputs": [],
   "source": [
    "for engl, deutsch in englisch_deutsch_dict.items():\n",
    "    deutsch_englisch_dict[deutsch] = engl"
   ]
  },
  {
   "cell_type": "code",
   "execution_count": 22,
   "metadata": {
    "collapsed": false
   },
   "outputs": [
    {
     "name": "stdout",
     "output_type": "stream",
     "text": [
      "{'welt': 'world', 'auf wiedersehen': 'good bye', 'hallo': 'hello'}\n"
     ]
    }
   ],
   "source": [
    "print(deutsch_englisch_dict)"
   ]
  },
  {
   "cell_type": "code",
   "execution_count": 41,
   "metadata": {
    "collapsed": false
   },
   "outputs": [
    {
     "name": "stdout",
     "output_type": "stream",
     "text": [
      "{'welt': 'world', 'auf wiedersehen': 'good bye', 'hallo': 'hello'}\n"
     ]
    }
   ],
   "source": [
    "# Alternativ mit Dictionary Comprehension:\n",
    "deutsch_englisch_dict = {deutsch: englisch for englisch, deutsch in englisch_deutsch_dict.items()}\n",
    "print(deutsch_englisch_dict)"
   ]
  },
  {
   "cell_type": "code",
   "execution_count": 23,
   "metadata": {
    "collapsed": true
   },
   "outputs": [],
   "source": [
    "mein_dict = {\"a\": 1, \"b\": 2}"
   ]
  },
  {
   "cell_type": "code",
   "execution_count": 24,
   "metadata": {
    "collapsed": true
   },
   "outputs": [],
   "source": [
    "fehler = {\"sw\", \"grau\"}"
   ]
  },
  {
   "cell_type": "code",
   "execution_count": 25,
   "metadata": {
    "collapsed": true
   },
   "outputs": [],
   "source": [
    "n_max = 100\n",
    "\n",
    "menge_der_zahlen = set(range(n_max))"
   ]
  },
  {
   "cell_type": "code",
   "execution_count": 26,
   "metadata": {
    "collapsed": false
   },
   "outputs": [
    {
     "name": "stdout",
     "output_type": "stream",
     "text": [
      "The Zen of Python, by Tim Peters\n",
      "\n",
      "Beautiful is better than ugly.\n",
      "Explicit is better than implicit.\n",
      "Simple is better than complex.\n",
      "Complex is better than complicated.\n",
      "Flat is better than nested.\n",
      "Sparse is better than dense.\n",
      "Readability counts.\n",
      "Special cases aren't special enough to break the rules.\n",
      "Although practicality beats purity.\n",
      "Errors should never pass silently.\n",
      "Unless explicitly silenced.\n",
      "In the face of ambiguity, refuse the temptation to guess.\n",
      "There should be one-- and preferably only one --obvious way to do it.\n",
      "Although that way may not be obvious at first unless you're Dutch.\n",
      "Now is better than never.\n",
      "Although never is often better than *right* now.\n",
      "If the implementation is hard to explain, it's a bad idea.\n",
      "If the implementation is easy to explain, it may be a good idea.\n",
      "Namespaces are one honking great idea -- let's do more of those!\n"
     ]
    }
   ],
   "source": [
    "import this"
   ]
  }
 ],
 "metadata": {
  "anaconda-cloud": {},
  "kernelspec": {
   "display_name": "Python [conda root]",
   "language": "python",
   "name": "conda-root-py"
  },
  "language_info": {
   "codemirror_mode": {
    "name": "ipython",
    "version": 3
   },
   "file_extension": ".py",
   "mimetype": "text/x-python",
   "name": "python",
   "nbconvert_exporter": "python",
   "pygments_lexer": "ipython3",
   "version": "3.5.2"
  }
 },
 "nbformat": 4,
 "nbformat_minor": 2
}
