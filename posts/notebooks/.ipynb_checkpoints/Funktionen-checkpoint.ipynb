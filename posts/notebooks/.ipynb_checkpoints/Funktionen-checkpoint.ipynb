{
 "cells": [
  {
   "cell_type": "markdown",
   "metadata": {},
   "source": [
    "# Funktionen\n",
    "\n",
    "Funktionen erlauben es, bestimmte Anweisungen unter einem Namen (dem Funktionsnamen) zu speichern.\n",
    "Dadurch kann man erstens seinen Code besser strukturieren, und sich zweitens viel Schreibarbeit sparen"
   ]
  },
  {
   "cell_type": "markdown",
   "metadata": {},
   "source": [
    "## Beispiele"
   ]
  },
  {
   "cell_type": "markdown",
   "metadata": {},
   "source": [
    "Funktionen werden mithilfe des *def* keywords erstellt.\n",
    "Nach def wird der Name der Funktion festgelegt, und in den anschließenden runden Klammern die Parameter bestimmt,\n",
    "die die Funktion erwartet.\n",
    "Im Prinzip ist das ganz ähnlich wie bei mathematischen Funktionen.\n",
    "Innerhalb der Funktion wird mit *return* festgelegt, was die Funktion am Ende an die *Außenwelt* zurückgibt."
   ]
  },
  {
   "cell_type": "code",
   "execution_count": 1,
   "metadata": {
    "collapsed": true
   },
   "outputs": [],
   "source": [
    "def quadrat(zahl):\n",
    "    ergebnis = zahl * zahl\n",
    "    return ergebnis"
   ]
  },
  {
   "cell_type": "markdown",
   "metadata": {},
   "source": [
    "Funktionen müssen aber nicht zwingend ein return Statement haben.\n",
    "Genausowenig brauchen sie Parameter"
   ]
  },
  {
   "cell_type": "code",
   "execution_count": 2,
   "metadata": {
    "collapsed": true
   },
   "outputs": [],
   "source": [
    "def hello():\n",
    "    print(\"hello\")"
   ]
  },
  {
   "cell_type": "code",
   "execution_count": 3,
   "metadata": {
    "collapsed": true
   },
   "outputs": [],
   "source": [
    "def lies_datei(dateiname):\n",
    "    with open(dateiname, \"r\") as f:\n",
    "        for line in f:\n",
    "            print(line)"
   ]
  },
  {
   "cell_type": "code",
   "execution_count": 4,
   "metadata": {
    "collapsed": true
   },
   "outputs": [],
   "source": [
    "def summe(a, b, c):\n",
    "    return a + b + c"
   ]
  },
  {
   "cell_type": "markdown",
   "metadata": {
    "collapsed": true
   },
   "source": [
    "Die Funktion kann dann folgendermaßen benutzt werden:"
   ]
  },
  {
   "cell_type": "code",
   "execution_count": 5,
   "metadata": {
    "collapsed": false
   },
   "outputs": [
    {
     "name": "stdout",
     "output_type": "stream",
     "text": [
      "25\n"
     ]
    }
   ],
   "source": [
    "x = 5\n",
    "y = quadrat(x)\n",
    "print(y)"
   ]
  },
  {
   "cell_type": "markdown",
   "metadata": {},
   "source": [
    "Man kann den Parametern auch Defaultwerte zuweisen. Wenn die Funktion aufgerufen wird ohne Parameter, \n",
    "werden die Defaultwerte benutzt"
   ]
  },
  {
   "cell_type": "code",
   "execution_count": 6,
   "metadata": {
    "collapsed": true
   },
   "outputs": [],
   "source": [
    "def summe(a=0, b=0, c=0):\n",
    "    return a + b + c"
   ]
  },
  {
   "cell_type": "code",
   "execution_count": 7,
   "metadata": {
    "collapsed": false
   },
   "outputs": [
    {
     "data": {
      "text/plain": [
       "0"
      ]
     },
     "execution_count": 7,
     "metadata": {},
     "output_type": "execute_result"
    }
   ],
   "source": [
    "summe()"
   ]
  },
  {
   "cell_type": "markdown",
   "metadata": {},
   "source": [
    "Außerdem kann man bei dem Funktionsaufruf explizit die Namen der Parameter angeben:"
   ]
  },
  {
   "cell_type": "code",
   "execution_count": 8,
   "metadata": {
    "collapsed": false
   },
   "outputs": [
    {
     "data": {
      "text/plain": [
       "12"
      ]
     },
     "execution_count": 8,
     "metadata": {},
     "output_type": "execute_result"
    }
   ],
   "source": [
    "summe(c=5, a=3, b=4)"
   ]
  },
  {
   "cell_type": "markdown",
   "metadata": {},
   "source": [
    "Man kann auch Funktionen schreiben, die beliebig viele Argumente akzeptieren. \n",
    "Ähnlich wie beim Tuple unpacking wird dazu der Stern benutzt.\n",
    "\n",
    "Erinnerung Tuple unpacking:\n",
    "\n",
    "Im unteren Beispiel wird a das erste Element aus der Liste zugewiesen, c das letzte Element, und b bekommt\n",
    "die restlichen Argumente in einer Liste"
   ]
  },
  {
   "cell_type": "code",
   "execution_count": 9,
   "metadata": {
    "collapsed": false
   },
   "outputs": [
    {
     "name": "stdout",
     "output_type": "stream",
     "text": [
      "[2, 3, 4, 5, 6]\n"
     ]
    }
   ],
   "source": [
    "a, *b, c = (1, 2, 3, 4, 5, 6, 7)\n",
    "print(b)"
   ]
  },
  {
   "cell_type": "markdown",
   "metadata": {},
   "source": [
    "So ähnlich funktioniert das auch bei Funktionsparametern.\n",
    "\n",
    "Hier werden die Parameter in einem Tupel gespeichert:"
   ]
  },
  {
   "cell_type": "code",
   "execution_count": 10,
   "metadata": {
    "collapsed": false
   },
   "outputs": [
    {
     "name": "stdout",
     "output_type": "stream",
     "text": [
      "(1,)\n",
      "('a', 'b', 'c')\n",
      "(1, 2, 3, 4, 'a', 'b', 'c')\n"
     ]
    }
   ],
   "source": [
    "def f(*args):\n",
    "    print(args)\n",
    "\n",
    "f(1)\n",
    "f(\"a\", \"b\", \"c\")\n",
    "f(1, 2, 3, 4, \"a\", \"b\", \"c\")"
   ]
  },
  {
   "cell_type": "markdown",
   "metadata": {},
   "source": [
    "Wir können unsere Summenfunktion so umschreiben, dass sie beliebig viele Zahlen akzeptiert und diese addiert:"
   ]
  },
  {
   "cell_type": "code",
   "execution_count": 11,
   "metadata": {
    "collapsed": true
   },
   "outputs": [],
   "source": [
    "def summe(*args):\n",
    "    ergebnis = 0\n",
    "    for arg in args:\n",
    "        ergebnis += arg\n",
    "    return ergebnis"
   ]
  },
  {
   "cell_type": "code",
   "execution_count": 12,
   "metadata": {
    "collapsed": false
   },
   "outputs": [
    {
     "name": "stdout",
     "output_type": "stream",
     "text": [
      "1\n",
      "3\n",
      "234280\n"
     ]
    }
   ],
   "source": [
    "print(summe(1))\n",
    "print(summe(1, 2))\n",
    "print(summe(1, 2, 3, 4, 5, 6, 7, 8, 9, 234235))"
   ]
  },
  {
   "cell_type": "markdown",
   "metadata": {},
   "source": [
    "## Rekursive Funktionen\n",
    "\n",
    "Es ist auch möglich Funktionen zu schachteln. D.h. innerhalb einer Funktion können andere Funktionen aufgerufen werden.\n",
    "Insbesondere ist es auch möglich, dass sich eine Funktion selbst nochmal aufruft.\n",
    "\n",
    "Bekanntestes Beispiel ist die Fakultätsfunktion (Details siehe Vorlesung)"
   ]
  },
  {
   "cell_type": "code",
   "execution_count": 13,
   "metadata": {
    "collapsed": true
   },
   "outputs": [],
   "source": [
    "def fakultät(n):\n",
    "    if n == 0:\n",
    "        return 1\n",
    "    else:\n",
    "        return n * fakultät(n - 1)"
   ]
  },
  {
   "cell_type": "code",
   "execution_count": 14,
   "metadata": {
    "collapsed": false
   },
   "outputs": [
    {
     "name": "stdout",
     "output_type": "stream",
     "text": [
      "720\n"
     ]
    }
   ],
   "source": [
    "print(fakultät(6))"
   ]
  }
 ],
 "metadata": {
  "anaconda-cloud": {},
  "kernelspec": {
   "display_name": "Python [default]",
   "language": "python",
   "name": "python3"
  },
  "language_info": {
   "codemirror_mode": {
    "name": "ipython",
    "version": 3
   },
   "file_extension": ".py",
   "mimetype": "text/x-python",
   "name": "python",
   "nbconvert_exporter": "python",
   "pygments_lexer": "ipython3",
   "version": "3.5.2"
  }
 },
 "nbformat": 4,
 "nbformat_minor": 1
}
