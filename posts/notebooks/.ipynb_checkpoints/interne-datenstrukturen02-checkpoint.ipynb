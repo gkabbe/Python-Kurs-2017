{
 "cells": [
  {
   "cell_type": "markdown",
   "metadata": {},
   "source": [
    "# Listen slicen"
   ]
  },
  {
   "cell_type": "code",
   "execution_count": 1,
   "metadata": {
    "collapsed": true
   },
   "outputs": [],
   "source": [
    "meine_liste = list(\"abcdefghijklmnopqrstuvwxyz\")"
   ]
  },
  {
   "cell_type": "code",
   "execution_count": 2,
   "metadata": {
    "collapsed": false
   },
   "outputs": [
    {
     "name": "stdout",
     "output_type": "stream",
     "text": [
      "['d', 'e']\n",
      "['d', 'e', 'f', 'g', 'h', 'i', 'j', 'k', 'l', 'm', 'n', 'o', 'p', 'q', 'r', 's', 't', 'u', 'v', 'w', 'x', 'y', 'z']\n",
      "['a', 'b', 'c', 'd', 'e']\n",
      "['a', 'd', 'g', 'j', 'm', 'p', 's']\n"
     ]
    }
   ],
   "source": [
    "# Element 3 bis Element 4 (Element 5 ist nicht enthalten)\n",
    "print(meine_liste[3:5])\n",
    "\n",
    "# Element 3 bis letztes Element\n",
    "print(meine_liste[3:])\n",
    "\n",
    "# Nulltes bis 4. Element\n",
    "print(meine_liste[:5])\n",
    "\n",
    "# Gib nur jedes dritte Element aus\n",
    "print(meine_liste[0:20:3])\n"
   ]
  },
  {
   "cell_type": "code",
   "execution_count": 3,
   "metadata": {
    "collapsed": false
   },
   "outputs": [
    {
     "name": "stdout",
     "output_type": "stream",
     "text": [
      "[0, 3, 6, 9, 12, 15, 18, 21]\n"
     ]
    }
   ],
   "source": [
    "zahlen_liste = list(range(22))\n",
    "print(zahlen_liste[0:22:3])"
   ]
  },
  {
   "cell_type": "markdown",
   "metadata": {},
   "source": [
    "# Listen sortieren"
   ]
  },
  {
   "cell_type": "code",
   "execution_count": 4,
   "metadata": {
    "collapsed": false
   },
   "outputs": [
    {
     "name": "stdout",
     "output_type": "stream",
     "text": [
      "[1, 3, 5, 12, 89]\n",
      "[89, 12, 5, 3, 1]\n",
      "['z', 'y', 'x', 'w', 'v', 'u', 't', 's', 'r', 'q', 'p', 'o', 'n', 'm', 'l', 'k', 'j', 'i', 'h', 'g', 'f', 'e', 'd', 'c', 'b', 'a']\n"
     ]
    }
   ],
   "source": [
    "unsortierte_liste = [3, 5, 1, 89, 12]\n",
    "aufsteigend_sortiert = sorted(unsortierte_liste)\n",
    "absteigend_sortiert = sorted(unsortierte_liste, \n",
    "                             reverse=True)\n",
    "\n",
    "print(aufsteigend_sortiert)\n",
    "print(absteigend_sortiert)\n",
    "\n",
    "alphabet = list(\"abcdefghijklmnopqrstuvwxyz\")\n",
    "print(sorted(alphabet, reverse=True))\n",
    "\n"
   ]
  },
  {
   "cell_type": "code",
   "execution_count": 5,
   "metadata": {
    "collapsed": false
   },
   "outputs": [
    {
     "name": "stdout",
     "output_type": "stream",
     "text": [
      "[3, 5, 1, 89, 12]\n",
      "None\n",
      "[1, 3, 5, 12, 89]\n"
     ]
    }
   ],
   "source": [
    "# .sort() sortiert die ursprüngliche Liste\n",
    "\n",
    "print(unsortierte_liste)\n",
    "print(unsortierte_liste.sort())\n",
    "print(unsortierte_liste)"
   ]
  },
  {
   "cell_type": "markdown",
   "metadata": {},
   "source": [
    "# Funktionen "
   ]
  },
  {
   "cell_type": "code",
   "execution_count": 6,
   "metadata": {
    "collapsed": false
   },
   "outputs": [
    {
     "name": "stdout",
     "output_type": "stream",
     "text": [
      "25\n"
     ]
    }
   ],
   "source": [
    "def quadrat(x):\n",
    "    return x * x\n",
    "\n",
    "zahl = 5\n",
    "zahl_hoch_2 = quadrat(zahl)\n",
    "print(zahl_hoch_2)"
   ]
  },
  {
   "cell_type": "code",
   "execution_count": 7,
   "metadata": {
    "collapsed": false
   },
   "outputs": [
    {
     "name": "stdout",
     "output_type": "stream",
     "text": [
      "Hello World\n"
     ]
    }
   ],
   "source": [
    "def hello_world():\n",
    "    print(\"Hello World\")\n",
    "\n",
    "hello_world()"
   ]
  },
  {
   "cell_type": "code",
   "execution_count": 8,
   "metadata": {
    "collapsed": true
   },
   "outputs": [],
   "source": [
    "def schreibe_datei(text, dateiname):\n",
    "    with open(dateiname, \"w\") as f:\n",
    "        print(text, file=f)\n",
    "\n",
    "schreibe_datei(\"Hallo\", \"datei1\")\n",
    "schreibe_datei(\"Ciao\", \"datei2\")"
   ]
  },
  {
   "cell_type": "markdown",
   "metadata": {},
   "source": [
    "# Tupel"
   ]
  },
  {
   "cell_type": "markdown",
   "metadata": {},
   "source": [
    "Sind wie Listen, aber unveränderlich!"
   ]
  },
  {
   "cell_type": "code",
   "execution_count": 9,
   "metadata": {
    "collapsed": false
   },
   "outputs": [
    {
     "name": "stdout",
     "output_type": "stream",
     "text": [
      "(1, 2, 3, 4)\n",
      "(1, 2, 3)\n"
     ]
    }
   ],
   "source": [
    "mein_tupel = tuple([1, 2, 3, 4])\n",
    "print(mein_tupel)\n",
    "print(mein_tupel[:3])"
   ]
  },
  {
   "cell_type": "code",
   "execution_count": 10,
   "metadata": {
    "collapsed": false
   },
   "outputs": [
    {
     "ename": "AttributeError",
     "evalue": "'tuple' object has no attribute 'append'",
     "output_type": "error",
     "traceback": [
      "\u001b[0;31m---------------------------------------------------------------------------\u001b[0m",
      "\u001b[0;31mAttributeError\u001b[0m                            Traceback (most recent call last)",
      "\u001b[0;32m<ipython-input-10-6de8aa670d3d>\u001b[0m in \u001b[0;36m<module>\u001b[0;34m()\u001b[0m\n\u001b[1;32m      1\u001b[0m \u001b[0;31m# Das geht nicht\u001b[0m\u001b[0;34m\u001b[0m\u001b[0;34m\u001b[0m\u001b[0m\n\u001b[0;32m----> 2\u001b[0;31m \u001b[0mmein_tupel\u001b[0m\u001b[0;34m.\u001b[0m\u001b[0mappend\u001b[0m\u001b[0;34m(\u001b[0m\u001b[0;36m4\u001b[0m\u001b[0;34m)\u001b[0m\u001b[0;34m\u001b[0m\u001b[0m\n\u001b[0m\u001b[1;32m      3\u001b[0m \u001b[0mmein_tupel\u001b[0m\u001b[0;34m[\u001b[0m\u001b[0;36m3\u001b[0m\u001b[0;34m]\u001b[0m \u001b[0;34m=\u001b[0m \u001b[0;36m17\u001b[0m\u001b[0;34m\u001b[0m\u001b[0m\n",
      "\u001b[0;31mAttributeError\u001b[0m: 'tuple' object has no attribute 'append'"
     ]
    }
   ],
   "source": [
    "# Das geht nicht\n",
    "mein_tupel.append(4)\n",
    "mein_tupel[3] = 17"
   ]
  },
  {
   "cell_type": "markdown",
   "metadata": {},
   "source": [
    "# Listen / Tupel entpacken"
   ]
  },
  {
   "cell_type": "code",
   "execution_count": 11,
   "metadata": {
    "collapsed": false
   },
   "outputs": [
    {
     "name": "stdout",
     "output_type": "stream",
     "text": [
      "3 4 5\n"
     ]
    }
   ],
   "source": [
    "liste = [3, 4, 5]\n",
    "\n",
    "# Möglichkeit 1\n",
    "a = liste[0]\n",
    "b = liste[1]\n",
    "c = liste[2]\n",
    "\n",
    "# Eleganter\n",
    "(a, b, c) = liste\n",
    "print(a, b, c)\n"
   ]
  },
  {
   "cell_type": "code",
   "execution_count": 12,
   "metadata": {
    "collapsed": false
   },
   "outputs": [
    {
     "name": "stdout",
     "output_type": "stream",
     "text": [
      "0\n",
      "[1, 2, 3, 4, 5, 6, 7, 8, 9, 10, 11, 12, 13, 14, 15, 16, 17, 18]\n",
      "19\n"
     ]
    }
   ],
   "source": [
    "# Wir möchten nur erstes und letztes Element aus Liste\n",
    "lange_liste = list(range(20))\n",
    "erstes, *mitte, letztes = lange_liste\n",
    "print(erstes)\n",
    "print(mitte)\n",
    "print(letztes)"
   ]
  },
  {
   "cell_type": "code",
   "execution_count": 13,
   "metadata": {
    "collapsed": false
   },
   "outputs": [
    {
     "name": "stdout",
     "output_type": "stream",
     "text": [
      "1\n",
      "[2, 3, 4, 5]\n"
     ]
    }
   ],
   "source": [
    "a, *b = [1, 2, 3, 4, 5]\n",
    "print(a)\n",
    "print(b)"
   ]
  },
  {
   "cell_type": "code",
   "execution_count": 14,
   "metadata": {
    "collapsed": false
   },
   "outputs": [
    {
     "name": "stdout",
     "output_type": "stream",
     "text": [
      "[2, 3, 4]\n"
     ]
    }
   ],
   "source": [
    "a, *b, c = [1, 2, 3, 4, 5]\n",
    "print(b)"
   ]
  },
  {
   "cell_type": "code",
   "execution_count": 15,
   "metadata": {
    "collapsed": false
   },
   "outputs": [
    {
     "name": "stdout",
     "output_type": "stream",
     "text": [
      "[2, 3]\n"
     ]
    }
   ],
   "source": [
    "a, *b, c, d = [1, 2, 3, 4, 5]\n",
    "print(b)"
   ]
  },
  {
   "cell_type": "code",
   "execution_count": 16,
   "metadata": {
    "collapsed": true
   },
   "outputs": [],
   "source": [
    "name = \"Müller\"\n",
    "vorname = \"Heinz\"\n",
    "\n",
    "# alternativ\n",
    "\n",
    "[name, vorname] = [\"Müller\", \"Heinz\"]\n",
    "\n",
    "# bzw.\n",
    "(name, vorname) = (\"Müller\", \"Heinz\")\n",
    "\n",
    "# bzw.\n",
    "name, vorname = \"Müller\", \"Heinz\""
   ]
  },
  {
   "cell_type": "markdown",
   "metadata": {},
   "source": [
    "# Listen zippen"
   ]
  },
  {
   "cell_type": "code",
   "execution_count": 17,
   "metadata": {
    "collapsed": true
   },
   "outputs": [],
   "source": [
    "zeiten = list(range(20))\n",
    "konzentrationen = [1.000, \n",
    "                   0.880,\n",
    "                   0.756,\n",
    "                   0.656,\n",
    "                   0.582,\n",
    "                   0.495,\n",
    "                   0.441,\n",
    "                   0.387,\n",
    "                   0.335,\n",
    "                   0.294,\n",
    "                   0.242,\n",
    "                   0.219,\n",
    "                   0.194,\n",
    "                   0.166,\n",
    "                   0.140,\n",
    "                   0.130,\n",
    "                   0.109,\n",
    "                   0.099,\n",
    "                   0.079,\n",
    "                   0.078\n",
    "                  ] \n"
   ]
  },
  {
   "cell_type": "code",
   "execution_count": 18,
   "metadata": {
    "collapsed": false
   },
   "outputs": [
    {
     "name": "stdout",
     "output_type": "stream",
     "text": [
      "Zeit: 0\n",
      "Konzentration: 1.0\n",
      "Zeit: 1\n",
      "Konzentration: 0.88\n",
      "Zeit: 2\n",
      "Konzentration: 0.756\n",
      "Zeit: 3\n",
      "Konzentration: 0.656\n",
      "Zeit: 4\n",
      "Konzentration: 0.582\n",
      "Zeit: 5\n",
      "Konzentration: 0.495\n",
      "Zeit: 6\n",
      "Konzentration: 0.441\n",
      "Zeit: 7\n",
      "Konzentration: 0.387\n",
      "Zeit: 8\n",
      "Konzentration: 0.335\n",
      "Zeit: 9\n",
      "Konzentration: 0.294\n",
      "Zeit: 10\n",
      "Konzentration: 0.242\n",
      "Zeit: 11\n",
      "Konzentration: 0.219\n",
      "Zeit: 12\n",
      "Konzentration: 0.194\n",
      "Zeit: 13\n",
      "Konzentration: 0.166\n",
      "Zeit: 14\n",
      "Konzentration: 0.14\n",
      "Zeit: 15\n",
      "Konzentration: 0.13\n",
      "Zeit: 16\n",
      "Konzentration: 0.109\n",
      "Zeit: 17\n",
      "Konzentration: 0.099\n",
      "Zeit: 18\n",
      "Konzentration: 0.079\n",
      "Zeit: 19\n",
      "Konzentration: 0.078\n"
     ]
    }
   ],
   "source": [
    "# wie iteriert man über die zeiten UND die konzentrationen?\n",
    "# Antwort: zip\n",
    "\n",
    "#print(list(zip(zeiten, konzentrationen)))\n",
    "for tup in zip(zeiten, konzentrationen):\n",
    "    #print(tup)\n",
    "    # Tuple unpacking\n",
    "    zeit, konz = tup\n",
    "    print(\"Zeit:\", zeit)\n",
    "    print(\"Konzentration:\", konz)"
   ]
  },
  {
   "cell_type": "code",
   "execution_count": 19,
   "metadata": {
    "collapsed": false
   },
   "outputs": [
    {
     "name": "stdout",
     "output_type": "stream",
     "text": [
      "(1, 'a')\n",
      "(2, 'b')\n",
      "(3, 'c')\n"
     ]
    }
   ],
   "source": [
    "# zip manuell angewendet:\n",
    "liste_1 = [1, 2, 3]\n",
    "liste_2 = [\"a\", \"b\", \"c\"]\n",
    "\n",
    "# gezippt = zip(liste_1, liste_2)\n",
    "gezippt = [(1, \"a\"), (2, \"b\"), (3, \"c\")]\n",
    "for tup in gezippt:\n",
    "    print(tup)"
   ]
  },
  {
   "cell_type": "markdown",
   "metadata": {},
   "source": [
    "### Übung: Datei lesen, und zwischen jeden Buchstaben ein Leerzeichen einfügen"
   ]
  },
  {
   "cell_type": "code",
   "execution_count": 20,
   "metadata": {
    "collapsed": false
   },
   "outputs": [
    {
     "name": "stdout",
     "output_type": "stream",
     "text": [
      "a s d b a l d b a l s d b l a s i l a i l s j g l s g \n",
      " \n"
     ]
    }
   ],
   "source": [
    "# Datei erzeugen:\n",
    "with open(\"daten\", \"w\") as f:\n",
    "    print(\"asdbaldbalsdblasilailsjglsg\", file=f)\n",
    "\n",
    "\n",
    "with open(\"daten\", \"r\") as f:\n",
    "    zeilen = []\n",
    "    for line in f:\n",
    "        zeilen.append(line)\n",
    "#print(zeilen)\n",
    "\n",
    "buchstabenliste = list(zeilen[0])\n",
    "#print(buchstabenliste)\n",
    "\n",
    "ergebnis = \"\"\n",
    "for buchstabe in buchstabenliste:\n",
    "    ergebnis += buchstabe  # oder ergebnis = ergebnis + buchstabe\n",
    "    ergebnis += \" \"\n",
    "print(ergebnis)"
   ]
  },
  {
   "cell_type": "markdown",
   "metadata": {},
   "source": [
    "Anmerkung: diese Methode ist ineffizient.\n",
    "\n",
    "Besser mit join:"
   ]
  },
  {
   "cell_type": "code",
   "execution_count": 21,
   "metadata": {
    "collapsed": false
   },
   "outputs": [
    {
     "name": "stdout",
     "output_type": "stream",
     "text": [
      "a b c\n",
      "a b a s f a s f k l a s f q w e r j i l ö r j o p s d v n k l a s a s a s d a s d a s d j i l ö a s d\n"
     ]
    }
   ],
   "source": [
    "print(\" \".join([\"a\", \"b\", \"c\"]))\n",
    "\n",
    "text = \"abasfasfklasfqwerjilörjopsdvnklasasasdasdasdjilöasd\"\n",
    "\n",
    "print(\" \".join(text))"
   ]
  },
  {
   "cell_type": "markdown",
   "metadata": {},
   "source": [
    "### Prüfen, ob ein String in einem anderen String enthalten ist:"
   ]
  },
  {
   "cell_type": "code",
   "execution_count": 22,
   "metadata": {
    "collapsed": false
   },
   "outputs": [
    {
     "name": "stdout",
     "output_type": "stream",
     "text": [
      "True\n"
     ]
    }
   ],
   "source": [
    "formel = \"C3H7NO2S\"\n",
    "\n",
    "aminosäure = \"ASDFJLASLDC3H7NO2SALSDNASND\"\n",
    "\n",
    "print(formel in aminosäure)"
   ]
  },
  {
   "cell_type": "markdown",
   "metadata": {},
   "source": [
    "Das funktioniert auch mit Listen und anderen Containern!"
   ]
  },
  {
   "cell_type": "code",
   "execution_count": 23,
   "metadata": {
    "collapsed": false
   },
   "outputs": [
    {
     "name": "stdout",
     "output_type": "stream",
     "text": [
      "True\n"
     ]
    }
   ],
   "source": [
    "print(3 in [1, 2, 3, 4, 5])"
   ]
  },
  {
   "cell_type": "markdown",
   "metadata": {},
   "source": [
    "## Mengen (Sets)\n",
    "\n",
    "Eine Datenstruktur, die wie eine Menge aus der Mathematik funktioniert.\n",
    "\n",
    "Speichert weder die Reihenfolge noch die Anzahl der beinhalteten Elemente "
   ]
  },
  {
   "cell_type": "code",
   "execution_count": 24,
   "metadata": {
    "collapsed": false
   },
   "outputs": [
    {
     "name": "stdout",
     "output_type": "stream",
     "text": [
      "{'CH3', 'H2O'}\n"
     ]
    }
   ],
   "source": [
    "menge = set([\"CH3\", \"H2O\", \"H2O\"])\n",
    "print(menge)"
   ]
  },
  {
   "cell_type": "markdown",
   "metadata": {},
   "source": [
    "Man kann nun typische Mengenoperationen wie Schnitt, Differenz, Vereinigung, ...\n",
    "damit ausführen"
   ]
  },
  {
   "cell_type": "code",
   "execution_count": 25,
   "metadata": {
    "collapsed": false
   },
   "outputs": [
    {
     "name": "stdout",
     "output_type": "stream",
     "text": [
      "Schnitt: {'CH3', 'H2O'}\n",
      "Vereinignung: {'CH3', 'H3O', 'H2O'}\n",
      "Differenz: set()\n",
      "Differenz: {'H3O'}\n"
     ]
    }
   ],
   "source": [
    "# Mengen\n",
    "menge1 = set([\"CH3\", \"H2O\", \"H2O\"])\n",
    "menge2 = set([\"CH3\", \"H2O\", \"H3O\"])\n",
    "\n",
    "# welche elemente sind in beiden mengen\n",
    "# schnittmenge\n",
    "print(\"Schnitt:\", menge1 & menge2)\n",
    "\n",
    "print(\"Vereinignung:\", menge1 | menge2)\n",
    "\n",
    "print(\"Differenz:\", menge1 - menge2)\n",
    "print(\"Differenz:\", menge2 - menge1)"
   ]
  }
 ],
 "metadata": {
  "anaconda-cloud": {},
  "kernelspec": {
   "display_name": "Python [conda root]",
   "language": "python",
   "name": "conda-root-py"
  },
  "language_info": {
   "codemirror_mode": {
    "name": "ipython",
    "version": 3
   },
   "file_extension": ".py",
   "mimetype": "text/x-python",
   "name": "python",
   "nbconvert_exporter": "python",
   "pygments_lexer": "ipython3",
   "version": "3.5.2"
  }
 },
 "nbformat": 4,
 "nbformat_minor": 2
}
