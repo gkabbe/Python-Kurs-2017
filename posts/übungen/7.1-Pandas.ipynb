{
 "cells": [
  {
   "cell_type": "code",
   "execution_count": 1,
   "metadata": {
    "collapsed": true
   },
   "outputs": [],
   "source": [
    "%matplotlib inline\n",
    "import pandas as pd\n",
    "import matplotlib.pyplot as plt\n",
    "import numpy as np"
   ]
  },
  {
   "cell_type": "markdown",
   "metadata": {},
   "source": [
    "## Wetterdaten einlesen\n",
    "\n",
    "Dafür benutzen wir read_csv. CSV steht für \"Comma Separated Values\"."
   ]
  },
  {
   "cell_type": "code",
   "execution_count": 2,
   "metadata": {
    "scrolled": true
   },
   "outputs": [
    {
     "data": {
      "text/html": [
       "<div>\n",
       "<style scoped>\n",
       "    .dataframe tbody tr th:only-of-type {\n",
       "        vertical-align: middle;\n",
       "    }\n",
       "\n",
       "    .dataframe tbody tr th {\n",
       "        vertical-align: top;\n",
       "    }\n",
       "\n",
       "    .dataframe thead th {\n",
       "        text-align: right;\n",
       "    }\n",
       "</style>\n",
       "<table border=\"1\" class=\"dataframe\">\n",
       "  <thead>\n",
       "    <tr style=\"text-align: right;\">\n",
       "      <th></th>\n",
       "      <th>STATIONS_ID</th>\n",
       "      <th>MESS_DATUM</th>\n",
       "      <th>QN_3</th>\n",
       "      <th>FX</th>\n",
       "      <th>FM</th>\n",
       "      <th>QN_4</th>\n",
       "      <th>RSK</th>\n",
       "      <th>RSKF</th>\n",
       "      <th>SDK</th>\n",
       "      <th>SHK_TAG</th>\n",
       "      <th>NM</th>\n",
       "      <th>VPM</th>\n",
       "      <th>PM</th>\n",
       "      <th>TMK</th>\n",
       "      <th>UPM</th>\n",
       "      <th>TXK</th>\n",
       "      <th>TNK</th>\n",
       "      <th>TGK</th>\n",
       "      <th>eor</th>\n",
       "    </tr>\n",
       "  </thead>\n",
       "  <tbody>\n",
       "    <tr>\n",
       "      <th>0</th>\n",
       "      <td>1957</td>\n",
       "      <td>19510101</td>\n",
       "      <td>-999</td>\n",
       "      <td>-999.0</td>\n",
       "      <td>-999.0</td>\n",
       "      <td>5</td>\n",
       "      <td>0.0</td>\n",
       "      <td>8</td>\n",
       "      <td>-999.0</td>\n",
       "      <td>16</td>\n",
       "      <td>6.2</td>\n",
       "      <td>4.5</td>\n",
       "      <td>988.2</td>\n",
       "      <td>-1.0</td>\n",
       "      <td>83.0</td>\n",
       "      <td>2.2</td>\n",
       "      <td>-19.4</td>\n",
       "      <td>-20.3</td>\n",
       "      <td>eor</td>\n",
       "    </tr>\n",
       "    <tr>\n",
       "      <th>1</th>\n",
       "      <td>1957</td>\n",
       "      <td>19510102</td>\n",
       "      <td>-999</td>\n",
       "      <td>-999.0</td>\n",
       "      <td>-999.0</td>\n",
       "      <td>5</td>\n",
       "      <td>0.0</td>\n",
       "      <td>0</td>\n",
       "      <td>-999.0</td>\n",
       "      <td>17</td>\n",
       "      <td>3.8</td>\n",
       "      <td>4.3</td>\n",
       "      <td>983.6</td>\n",
       "      <td>-3.2</td>\n",
       "      <td>87.0</td>\n",
       "      <td>2.0</td>\n",
       "      <td>-9.3</td>\n",
       "      <td>-13.0</td>\n",
       "      <td>eor</td>\n",
       "    </tr>\n",
       "    <tr>\n",
       "      <th>2</th>\n",
       "      <td>1957</td>\n",
       "      <td>19510103</td>\n",
       "      <td>-999</td>\n",
       "      <td>-999.0</td>\n",
       "      <td>-999.0</td>\n",
       "      <td>5</td>\n",
       "      <td>10.0</td>\n",
       "      <td>1</td>\n",
       "      <td>-999.0</td>\n",
       "      <td>14</td>\n",
       "      <td>7.8</td>\n",
       "      <td>5.1</td>\n",
       "      <td>993.5</td>\n",
       "      <td>0.2</td>\n",
       "      <td>85.0</td>\n",
       "      <td>2.0</td>\n",
       "      <td>-5.4</td>\n",
       "      <td>-7.5</td>\n",
       "      <td>eor</td>\n",
       "    </tr>\n",
       "    <tr>\n",
       "      <th>3</th>\n",
       "      <td>1957</td>\n",
       "      <td>19510104</td>\n",
       "      <td>-999</td>\n",
       "      <td>-999.0</td>\n",
       "      <td>-999.0</td>\n",
       "      <td>5</td>\n",
       "      <td>0.0</td>\n",
       "      <td>1</td>\n",
       "      <td>-999.0</td>\n",
       "      <td>13</td>\n",
       "      <td>6.4</td>\n",
       "      <td>5.3</td>\n",
       "      <td>1005.8</td>\n",
       "      <td>0.7</td>\n",
       "      <td>81.0</td>\n",
       "      <td>2.4</td>\n",
       "      <td>-1.6</td>\n",
       "      <td>-7.7</td>\n",
       "      <td>eor</td>\n",
       "    </tr>\n",
       "    <tr>\n",
       "      <th>4</th>\n",
       "      <td>1957</td>\n",
       "      <td>19510105</td>\n",
       "      <td>-999</td>\n",
       "      <td>-999.0</td>\n",
       "      <td>-999.0</td>\n",
       "      <td>5</td>\n",
       "      <td>0.8</td>\n",
       "      <td>1</td>\n",
       "      <td>-999.0</td>\n",
       "      <td>12</td>\n",
       "      <td>8.0</td>\n",
       "      <td>6.4</td>\n",
       "      <td>1001.8</td>\n",
       "      <td>3.0</td>\n",
       "      <td>86.0</td>\n",
       "      <td>4.4</td>\n",
       "      <td>0.0</td>\n",
       "      <td>-3.4</td>\n",
       "      <td>eor</td>\n",
       "    </tr>\n",
       "  </tbody>\n",
       "</table>\n",
       "</div>"
      ],
      "text/plain": [
       "   STATIONS_ID  MESS_DATUM  QN_3     FX     FM  QN_4   RSK  RSKF    SDK  \\\n",
       "0         1957    19510101  -999 -999.0 -999.0     5   0.0     8 -999.0   \n",
       "1         1957    19510102  -999 -999.0 -999.0     5   0.0     0 -999.0   \n",
       "2         1957    19510103  -999 -999.0 -999.0     5  10.0     1 -999.0   \n",
       "3         1957    19510104  -999 -999.0 -999.0     5   0.0     1 -999.0   \n",
       "4         1957    19510105  -999 -999.0 -999.0     5   0.8     1 -999.0   \n",
       "\n",
       "   SHK_TAG    NM   VPM      PM   TMK   UPM   TXK   TNK   TGK  eor  \n",
       "0       16   6.2   4.5   988.2  -1.0  83.0   2.2 -19.4 -20.3  eor  \n",
       "1       17   3.8   4.3   983.6  -3.2  87.0   2.0  -9.3 -13.0  eor  \n",
       "2       14   7.8   5.1   993.5   0.2  85.0   2.0  -5.4  -7.5  eor  \n",
       "3       13   6.4   5.3  1005.8   0.7  81.0   2.4  -1.6  -7.7  eor  \n",
       "4       12   8.0   6.4  1001.8   3.0  86.0   4.4   0.0  -3.4  eor  "
      ]
     },
     "execution_count": 2,
     "metadata": {},
     "output_type": "execute_result"
    }
   ],
   "source": [
    "data = pd.read_csv(\"produkt_klima_tag_19510101_20150322_01957.txt\", sep=\";\")\n",
    "data.head()"
   ]
  },
  {
   "cell_type": "code",
   "execution_count": 3,
   "metadata": {},
   "outputs": [
    {
     "data": {
      "text/html": [
       "<div>\n",
       "<style scoped>\n",
       "    .dataframe tbody tr th:only-of-type {\n",
       "        vertical-align: middle;\n",
       "    }\n",
       "\n",
       "    .dataframe tbody tr th {\n",
       "        vertical-align: top;\n",
       "    }\n",
       "\n",
       "    .dataframe thead th {\n",
       "        text-align: right;\n",
       "    }\n",
       "</style>\n",
       "<table border=\"1\" class=\"dataframe\">\n",
       "  <thead>\n",
       "    <tr style=\"text-align: right;\">\n",
       "      <th></th>\n",
       "      <th>STATIONS_ID</th>\n",
       "      <th>QN_3</th>\n",
       "      <th>FX</th>\n",
       "      <th>FM</th>\n",
       "      <th>QN_4</th>\n",
       "      <th>RSK</th>\n",
       "      <th>RSKF</th>\n",
       "      <th>SDK</th>\n",
       "      <th>SHK_TAG</th>\n",
       "      <th>NM</th>\n",
       "      <th>VPM</th>\n",
       "      <th>PM</th>\n",
       "      <th>TMK</th>\n",
       "      <th>UPM</th>\n",
       "      <th>TXK</th>\n",
       "      <th>TNK</th>\n",
       "      <th>TGK</th>\n",
       "      <th>eor</th>\n",
       "    </tr>\n",
       "    <tr>\n",
       "      <th>MESS_DATUM</th>\n",
       "      <th></th>\n",
       "      <th></th>\n",
       "      <th></th>\n",
       "      <th></th>\n",
       "      <th></th>\n",
       "      <th></th>\n",
       "      <th></th>\n",
       "      <th></th>\n",
       "      <th></th>\n",
       "      <th></th>\n",
       "      <th></th>\n",
       "      <th></th>\n",
       "      <th></th>\n",
       "      <th></th>\n",
       "      <th></th>\n",
       "      <th></th>\n",
       "      <th></th>\n",
       "      <th></th>\n",
       "    </tr>\n",
       "  </thead>\n",
       "  <tbody>\n",
       "    <tr>\n",
       "      <th>1951-01-01</th>\n",
       "      <td>1957</td>\n",
       "      <td>-999</td>\n",
       "      <td>-999.0</td>\n",
       "      <td>-999.0</td>\n",
       "      <td>5</td>\n",
       "      <td>0.0</td>\n",
       "      <td>8</td>\n",
       "      <td>-999.0</td>\n",
       "      <td>16</td>\n",
       "      <td>6.2</td>\n",
       "      <td>4.5</td>\n",
       "      <td>988.2</td>\n",
       "      <td>-1.0</td>\n",
       "      <td>83.0</td>\n",
       "      <td>2.2</td>\n",
       "      <td>-19.4</td>\n",
       "      <td>-20.3</td>\n",
       "      <td>eor</td>\n",
       "    </tr>\n",
       "    <tr>\n",
       "      <th>1951-01-02</th>\n",
       "      <td>1957</td>\n",
       "      <td>-999</td>\n",
       "      <td>-999.0</td>\n",
       "      <td>-999.0</td>\n",
       "      <td>5</td>\n",
       "      <td>0.0</td>\n",
       "      <td>0</td>\n",
       "      <td>-999.0</td>\n",
       "      <td>17</td>\n",
       "      <td>3.8</td>\n",
       "      <td>4.3</td>\n",
       "      <td>983.6</td>\n",
       "      <td>-3.2</td>\n",
       "      <td>87.0</td>\n",
       "      <td>2.0</td>\n",
       "      <td>-9.3</td>\n",
       "      <td>-13.0</td>\n",
       "      <td>eor</td>\n",
       "    </tr>\n",
       "    <tr>\n",
       "      <th>1951-01-03</th>\n",
       "      <td>1957</td>\n",
       "      <td>-999</td>\n",
       "      <td>-999.0</td>\n",
       "      <td>-999.0</td>\n",
       "      <td>5</td>\n",
       "      <td>10.0</td>\n",
       "      <td>1</td>\n",
       "      <td>-999.0</td>\n",
       "      <td>14</td>\n",
       "      <td>7.8</td>\n",
       "      <td>5.1</td>\n",
       "      <td>993.5</td>\n",
       "      <td>0.2</td>\n",
       "      <td>85.0</td>\n",
       "      <td>2.0</td>\n",
       "      <td>-5.4</td>\n",
       "      <td>-7.5</td>\n",
       "      <td>eor</td>\n",
       "    </tr>\n",
       "    <tr>\n",
       "      <th>1951-01-04</th>\n",
       "      <td>1957</td>\n",
       "      <td>-999</td>\n",
       "      <td>-999.0</td>\n",
       "      <td>-999.0</td>\n",
       "      <td>5</td>\n",
       "      <td>0.0</td>\n",
       "      <td>1</td>\n",
       "      <td>-999.0</td>\n",
       "      <td>13</td>\n",
       "      <td>6.4</td>\n",
       "      <td>5.3</td>\n",
       "      <td>1005.8</td>\n",
       "      <td>0.7</td>\n",
       "      <td>81.0</td>\n",
       "      <td>2.4</td>\n",
       "      <td>-1.6</td>\n",
       "      <td>-7.7</td>\n",
       "      <td>eor</td>\n",
       "    </tr>\n",
       "    <tr>\n",
       "      <th>1951-01-05</th>\n",
       "      <td>1957</td>\n",
       "      <td>-999</td>\n",
       "      <td>-999.0</td>\n",
       "      <td>-999.0</td>\n",
       "      <td>5</td>\n",
       "      <td>0.8</td>\n",
       "      <td>1</td>\n",
       "      <td>-999.0</td>\n",
       "      <td>12</td>\n",
       "      <td>8.0</td>\n",
       "      <td>6.4</td>\n",
       "      <td>1001.8</td>\n",
       "      <td>3.0</td>\n",
       "      <td>86.0</td>\n",
       "      <td>4.4</td>\n",
       "      <td>0.0</td>\n",
       "      <td>-3.4</td>\n",
       "      <td>eor</td>\n",
       "    </tr>\n",
       "  </tbody>\n",
       "</table>\n",
       "</div>"
      ],
      "text/plain": [
       "            STATIONS_ID  QN_3     FX     FM  QN_4   RSK  RSKF    SDK  SHK_TAG  \\\n",
       "MESS_DATUM                                                                      \n",
       "1951-01-01         1957  -999 -999.0 -999.0     5   0.0     8 -999.0       16   \n",
       "1951-01-02         1957  -999 -999.0 -999.0     5   0.0     0 -999.0       17   \n",
       "1951-01-03         1957  -999 -999.0 -999.0     5  10.0     1 -999.0       14   \n",
       "1951-01-04         1957  -999 -999.0 -999.0     5   0.0     1 -999.0       13   \n",
       "1951-01-05         1957  -999 -999.0 -999.0     5   0.8     1 -999.0       12   \n",
       "\n",
       "              NM   VPM      PM   TMK   UPM   TXK   TNK   TGK  eor  \n",
       "MESS_DATUM                                                         \n",
       "1951-01-01   6.2   4.5   988.2  -1.0  83.0   2.2 -19.4 -20.3  eor  \n",
       "1951-01-02   3.8   4.3   983.6  -3.2  87.0   2.0  -9.3 -13.0  eor  \n",
       "1951-01-03   7.8   5.1   993.5   0.2  85.0   2.0  -5.4  -7.5  eor  \n",
       "1951-01-04   6.4   5.3  1005.8   0.7  81.0   2.4  -1.6  -7.7  eor  \n",
       "1951-01-05   8.0   6.4  1001.8   3.0  86.0   4.4   0.0  -3.4  eor  "
      ]
     },
     "execution_count": 3,
     "metadata": {},
     "output_type": "execute_result"
    }
   ],
   "source": [
    "# Um jetzt schön plotten zu können, tun wir zwei Dinge:\n",
    "# 1) wir wandeln die Integers in der Spalte \"MESS_DATUM\", die in der Form 19510101 (stellvertretend für Jahr, Monat, Tag) auftreten\n",
    "# in echte Datumsobjekte um\n",
    "# 2) wir sagen Pandas, dass wir das Datum als unseren Default-Index benutzen möchten\n",
    "\n",
    "data.MESS_DATUM =  pd.to_datetime(data.MESS_DATUM, format=\"%Y%m%d\")\n",
    "data = data.set_index(\"MESS_DATUM\")\n",
    "\n",
    "data.head()"
   ]
  },
  {
   "cell_type": "markdown",
   "metadata": {},
   "source": [
    "Die Spalten sind zur Zeit nicht sehr aussagekräftig. Auf der Webseite des DWD wird aber erklärt, für was die Kürzel\n",
    "stehen (ftp://ftp-cdc.dwd.de/pub/CDC/observations_germany/climate/daily/kl/historical/BESCHREIBUNG_obsgermany_climate_daily_kl_historical_de.pdf)\n",
    "\n",
    "Wir geben den Spalten nun bessere Namen"
   ]
  },
  {
   "cell_type": "code",
   "execution_count": 4,
   "metadata": {},
   "outputs": [
    {
     "data": {
      "text/plain": [
       "Index(['id', 'quali1', 'windspitze_max', 'windgeschwindigkeit_mittel',\n",
       "       'quali2', 'niederschlagshöhe', 'niederschlagsform', 'sonnenscheindauer',\n",
       "       'schneehöhe', 'bedeckungsgrad', 'dampfdruck', 'luftdruck', 'temperatur',\n",
       "       'relative_feuchte', 'temperatur_max', 'temperatur_min',\n",
       "       'bodentemperatur'],\n",
       "      dtype='object')"
      ]
     },
     "execution_count": 4,
     "metadata": {},
     "output_type": "execute_result"
    }
   ],
   "source": [
    "data.columns = [\"id\", \"quali1\", \"windspitze_max\", \"windgeschwindigkeit_mittel\", \"quali2\", \n",
    "                \"niederschlagshöhe\", \"niederschlagsform\", \"sonnenscheindauer\", \"schneehöhe\", \"bedeckungsgrad\",\n",
    "                \"dampfdruck\", \"luftdruck\", \"temperatur\", \"relative_feuchte\", \"temperatur_max\", \"temperatur_min\",\n",
    "                \"bodentemperatur\", \"eor\"]\n",
    "\n",
    "# Jetzt können wir noch die letzte Spalte eor löschen, die keine Information liefert\n",
    "del data[\"eor\"]\n",
    "data.columns"
   ]
  },
  {
   "cell_type": "code",
   "execution_count": 5,
   "metadata": {},
   "outputs": [
    {
     "data": {
      "text/plain": [
       "MESS_DATUM\n",
       "2015-03-18    8.4\n",
       "2015-03-19    5.3\n",
       "2015-03-20    4.3\n",
       "2015-03-21    2.5\n",
       "2015-03-22    1.6\n",
       "Name: temperatur, dtype: float64"
      ]
     },
     "execution_count": 5,
     "metadata": {},
     "output_type": "execute_result"
    }
   ],
   "source": [
    "# Wenn wir uns nun die Lufttemperatur ausgeben lassen, wird als Index automatisch das Datum der Messung angezeigt\n",
    "data.temperatur.tail()"
   ]
  },
  {
   "cell_type": "markdown",
   "metadata": {},
   "source": [
    "## Daten filtern"
   ]
  },
  {
   "cell_type": "code",
   "execution_count": 6,
   "metadata": {
    "collapsed": true
   },
   "outputs": [],
   "source": [
    "# Nun sortieren wir die Daten etwas aus. Oft gibt es fehlerhafte Daten, bei denen die Temperatur auf -999 gesetzt ist\n",
    "\n",
    "data_good = data.query('temperatur > -50')"
   ]
  },
  {
   "cell_type": "code",
   "execution_count": 7,
   "metadata": {},
   "outputs": [
    {
     "name": "stdout",
     "output_type": "stream",
     "text": [
      "count    23142.000000\n",
      "mean         9.353379\n",
      "std          7.640788\n",
      "min        -19.900000\n",
      "25%          3.700000\n",
      "50%          9.600000\n",
      "75%         15.400000\n",
      "max         30.100000\n",
      "Name: temperatur, dtype: float64\n"
     ]
    },
    {
     "name": "stderr",
     "output_type": "stream",
     "text": [
      "/scratch/kabbe/programs/anaconda3/lib/python3.6/site-packages/matplotlib/figure.py:1743: UserWarning: This figure includes Axes that are not compatible with tight_layout, so its results might be incorrect.\n",
      "  warnings.warn(\"This figure includes Axes that are not \"\n"
     ]
    },
    {
     "data": {
      "image/png": "[encoded data removed]",
      "text/plain": [
       "<matplotlib.figure.Figure at 0x7f05b50ee358>"
      ]
     },
     "metadata": {},
     "output_type": "display_data"
    }
   ],
   "source": [
    "# Die gesäuberten Daten können wir nun leicht plotten\n",
    "# Da wir das Messdatum als Index ausgewählt haben, benutzt Pandas es automatisch als x-Achse\n",
    "print(data_good.temperatur.describe())\n",
    "data_good.temperatur.plot()\n",
    "plt.show()"
   ]
  },
  {
   "cell_type": "markdown",
   "metadata": {},
   "source": [
    "## Daten gruppieren\n",
    "\n",
    "Diesmal wollen wir herausfinden, wieviel Schnee im Durchschnitt in jedem Monat seit Beginn der\n",
    "Aufzeichnungen gefallen ist."
   ]
  },
  {
   "cell_type": "code",
   "execution_count": 8,
   "metadata": {
    "collapsed": true
   },
   "outputs": [],
   "source": [
    "snow = data[[\"schneehöhe\"]] # hier die extra Klammer beachten. Dadurch bekommen wir wieder einen DataFrame\n",
    "                            # statt einer Series"
   ]
  },
  {
   "cell_type": "code",
   "execution_count": 9,
   "metadata": {},
   "outputs": [
    {
     "data": {
      "text/html": [
       "<div>\n",
       "<style scoped>\n",
       "    .dataframe tbody tr th:only-of-type {\n",
       "        vertical-align: middle;\n",
       "    }\n",
       "\n",
       "    .dataframe tbody tr th {\n",
       "        vertical-align: top;\n",
       "    }\n",
       "\n",
       "    .dataframe thead th {\n",
       "        text-align: right;\n",
       "    }\n",
       "</style>\n",
       "<table border=\"1\" class=\"dataframe\">\n",
       "  <thead>\n",
       "    <tr style=\"text-align: right;\">\n",
       "      <th></th>\n",
       "      <th>schneehöhe</th>\n",
       "      <th>month</th>\n",
       "    </tr>\n",
       "    <tr>\n",
       "      <th>MESS_DATUM</th>\n",
       "      <th></th>\n",
       "      <th></th>\n",
       "    </tr>\n",
       "  </thead>\n",
       "  <tbody>\n",
       "    <tr>\n",
       "      <th>1951-01-01</th>\n",
       "      <td>16</td>\n",
       "      <td>1</td>\n",
       "    </tr>\n",
       "    <tr>\n",
       "      <th>1951-01-02</th>\n",
       "      <td>17</td>\n",
       "      <td>1</td>\n",
       "    </tr>\n",
       "    <tr>\n",
       "      <th>1951-01-03</th>\n",
       "      <td>14</td>\n",
       "      <td>1</td>\n",
       "    </tr>\n",
       "    <tr>\n",
       "      <th>1951-01-04</th>\n",
       "      <td>13</td>\n",
       "      <td>1</td>\n",
       "    </tr>\n",
       "    <tr>\n",
       "      <th>1951-01-05</th>\n",
       "      <td>12</td>\n",
       "      <td>1</td>\n",
       "    </tr>\n",
       "  </tbody>\n",
       "</table>\n",
       "</div>"
      ],
      "text/plain": [
       "            schneehöhe  month\n",
       "MESS_DATUM                   \n",
       "1951-01-01          16      1\n",
       "1951-01-02          17      1\n",
       "1951-01-03          14      1\n",
       "1951-01-04          13      1\n",
       "1951-01-05          12      1"
      ]
     },
     "execution_count": 9,
     "metadata": {},
     "output_type": "execute_result"
    }
   ],
   "source": [
    "# hier fügen wir zusätzliche Spalten ein und nehmen nur die Tage, an denen vernünftige Werte gemessen wurden\n",
    "snow_selection = (snow.assign(month = snow.index.month)\n",
    "                      .query('schneehöhe >= 0'))\n",
    "\n",
    "snow_selection.head()"
   ]
  },
  {
   "cell_type": "markdown",
   "metadata": {},
   "source": [
    "## Aufgaben\n",
    "\n",
    "### Schneehöhe\n",
    "\n",
    "* Benutzen Sie groupby, um snow_selection nach Monaten zu gruppieren\n",
    "\n",
    "* Wenden Sie auf das resultierende Objekt .mean() an, um die mittlere Schneehöhe für jeden Monat zu erhalten\n",
    "\n"
   ]
  },
  {
   "cell_type": "code",
   "execution_count": null,
   "metadata": {
    "collapsed": true
   },
   "outputs": [],
   "source": []
  },
  {
   "cell_type": "markdown",
   "metadata": {},
   "source": [
    "### Schneehöhe und Bodentemperatur\n",
    "\n",
    "* Benutzen Sie data.query um wieder fehlerhafte Werte in den Spalten schneehöhe und bodentemperatur auszusortieren\n",
    "\n",
    "* Erstellen Sie einen Scatterplot, auf dem die x-Achse die Bodentemperatur, und die y-Achse die Schneehöhe darstellt"
   ]
  },
  {
   "cell_type": "markdown",
   "metadata": {},
   "source": [
    "### Temperaturverlauf\n",
    "\n",
    "Plotten Sie den durchschnittlichen jährlichen Temperaturverlauf. \n",
    "Führen Sie dafür folgende Schritte durch:\n",
    "\n",
    "* Selektieren Sie die Spalte temperatur\n",
    "\n",
    "* fügen Sie mittels assign eine neue Spalte doy = data.index.dayofyear hinzu\n",
    "\n",
    "* Benutzen Sie groupby(\"doy\")\n",
    "\n",
    "* Bestimmen Sie das Mittel\n",
    "\n",
    "* Plotten Sie das Ergebnis\n",
    "\n"
   ]
  },
  {
   "cell_type": "code",
   "execution_count": null,
   "metadata": {
    "collapsed": true
   },
   "outputs": [],
   "source": []
  },
  {
   "cell_type": "markdown",
   "metadata": {},
   "source": [
    "### Sonnenscheindauer\n",
    "\n",
    "* Wiederholen Sie die obige Prozedur für die Sonnenscheindauer "
   ]
  },
  {
   "cell_type": "code",
   "execution_count": null,
   "metadata": {
    "collapsed": true
   },
   "outputs": [],
   "source": []
  },
  {
   "cell_type": "markdown",
   "metadata": {},
   "source": [
    "### Niederschlag und Temperatur\n",
    "\n",
    "* Erstellen Sie einen Scatter-Plot für Niederschlag und Temperatur\n",
    "\n",
    "* Erstellen Sie einen Scatter-Plot für Sonnenscheindauer und Temperatur"
   ]
  },
  {
   "cell_type": "code",
   "execution_count": null,
   "metadata": {
    "collapsed": true
   },
   "outputs": [],
   "source": []
  }
 ],
 "metadata": {
  "kernelspec": {
   "display_name": "Python 3",
   "language": "python",
   "name": "python3"
  },
  "language_info": {
   "codemirror_mode": {
    "name": "ipython",
    "version": 3
   },
   "file_extension": ".py",
   "mimetype": "text/x-python",
   "name": "python",
   "nbconvert_exporter": "python",
   "pygments_lexer": "ipython3",
   "version": "3.6.2"
  }
 },
 "nbformat": 4,
 "nbformat_minor": 1
}
