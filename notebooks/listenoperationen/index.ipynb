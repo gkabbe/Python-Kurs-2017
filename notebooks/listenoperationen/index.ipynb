{
 "cells": [
  {
   "cell_type": "markdown",
   "metadata": {},
   "source": [
    "# Listen verarbeiten\n",
    "\n",
    "Wenn man größere Datenmengen verarbeiten möchte, ist es oft hilfreich, diese in Listenform zu speichern\n",
    "und Operationen auf der gesamten Liste durchzuführen.\n",
    "Hier sollen ein paar Beispiele gezeigt werden, wie man das machen kann."
   ]
  },
  {
   "cell_type": "markdown",
   "metadata": {},
   "source": [
    "## Teillisten erstellen\n",
    "\n",
    "Wenn man nur einen Teil der Liste (die ersten n Elemente, die letzten n Elemente, jedes nte Element)\n",
    "bearbeiten möchte hilft sogenanntes Slicing.\n",
    "Dabei gibt man in eckigen Klammern hinter der Liste, das Startelement, das Endelement und den Schritt an.\n",
    "\n",
    "\n",
    "\n",
    "###  Beispiel: alle geraden / ungeraden Zahlen"
   ]
  },
  {
   "cell_type": "code",
   "execution_count": 1,
   "metadata": {},
   "outputs": [
    {
     "name": "stdout",
     "output_type": "stream",
     "text": [
      "[0, 2, 4, 6, 8, 10, 12, 14, 16, 18, 20, 22, 24, 26, 28, 30, 32, 34, 36, 38, 40, 42, 44, 46, 48, 50, 52, 54, 56, 58, 60, 62, 64, 66, 68, 70, 72, 74, 76, 78, 80, 82, 84, 86, 88, 90, 92, 94, 96, 98]\n",
      "[1, 3, 5, 7, 9, 11, 13, 15, 17, 19, 21, 23, 25, 27, 29, 31, 33, 35, 37, 39, 41, 43, 45, 47, 49, 51, 53, 55, 57, 59, 61, 63, 65, 67, 69, 71, 73, 75, 77, 79, 81, 83, 85, 87, 89, 91, 93, 95, 97, 99]\n"
     ]
    }
   ],
   "source": [
    "zahlen = list(range(100))\n",
    "gerade = zahlen[0:len(zahlen):2]  # start: 0, ende: len(zahlen), schritt: 2\n",
    "ungerade = zahlen[1:len(zahlen):2]  # start: 1, ende: len(zahlen), schritt: 2\n",
    "print(gerade)\n",
    "print(ungerade)"
   ]
  },
  {
   "cell_type": "markdown",
   "metadata": {},
   "source": [
    "Die Defaultwerte für start, ende und schritt sind 0, Länge der Liste und 1.\n",
    "Daher kann man obiges Beispiel noch etwas kürzer schreiben"
   ]
  },
  {
   "cell_type": "code",
   "execution_count": 2,
   "metadata": {},
   "outputs": [
    {
     "name": "stdout",
     "output_type": "stream",
     "text": [
      "[0, 2, 4, 6, 8, 10, 12, 14, 16, 18, 20, 22, 24, 26, 28, 30, 32, 34, 36, 38, 40, 42, 44, 46, 48, 50, 52, 54, 56, 58, 60, 62, 64, 66, 68, 70, 72, 74, 76, 78, 80, 82, 84, 86, 88, 90, 92, 94, 96, 98]\n",
      "[1, 3, 5, 7, 9, 11, 13, 15, 17, 19, 21, 23, 25, 27, 29, 31, 33, 35, 37, 39, 41, 43, 45, 47, 49, 51, 53, 55, 57, 59, 61, 63, 65, 67, 69, 71, 73, 75, 77, 79, 81, 83, 85, 87, 89, 91, 93, 95, 97, 99]\n"
     ]
    }
   ],
   "source": [
    "zahlen = list(range(100))\n",
    "gerade = zahlen[::2]\n",
    "ungerade = zahlen[1::2]\n",
    "print(gerade)\n",
    "print(ungerade)"
   ]
  },
  {
   "cell_type": "markdown",
   "metadata": {
    "collapsed": true
   },
   "source": [
    "Slicing funktioniert auch mit anderen Objekten, deren Elemente man über einen Index erreicht:"
   ]
  },
  {
   "cell_type": "code",
   "execution_count": 3,
   "metadata": {},
   "outputs": [
    {
     "name": "stdout",
     "output_type": "stream",
     "text": [
      "HloWl\n",
      "Welt\n",
      "(1, 2, 3)\n"
     ]
    }
   ],
   "source": [
    "print(\"Hallo Welt\"[::2])\n",
    "print(\"Hallo Welt\"[-4:])\n",
    "print((1, 2, 3, 4)[:3])"
   ]
  },
  {
   "cell_type": "markdown",
   "metadata": {},
   "source": [
    "## List Comprehensions\n",
    "\n",
    "List Comprehensions sind eine weitere Möglichkeit, aus einer Liste Teillisten zu erstellen.\n",
    "Dabei sind die Möglichkeiten nochmals deutlich größer als beim Slicen.\n",
    "\n",
    "Die Schreibweise dafür ist in etwa:\n",
    "\n",
    "```\n",
    "[<Ausdruck> for element in liste if <Ausdruck>]\n",
    "```\n",
    "\n",
    "Ausdruck steht für irgendeine Python-Operation.\n",
    "Das if ist optional."
   ]
  },
  {
   "cell_type": "markdown",
   "metadata": {},
   "source": [
    "### Beispiel 1:\n",
    "\n",
    "Eine Liste enthält Strings. Jeder String soll nun mit Großbuchstaben geschrieben werden."
   ]
  },
  {
   "cell_type": "code",
   "execution_count": 4,
   "metadata": {},
   "outputs": [
    {
     "name": "stdout",
     "output_type": "stream",
     "text": [
      "['A', 'B', 'C', 'D', 'E']\n"
     ]
    }
   ],
   "source": [
    "buchstaben = [\"a\", \"b\", \"c\", \"d\", \"e\"]\n",
    "großbuchstaben = [b.upper() for b in buchstaben]\n",
    "print(großbuchstaben)"
   ]
  },
  {
   "cell_type": "markdown",
   "metadata": {},
   "source": [
    "### Beispiel 2:\n",
    "\n",
    "Eine Liste enthält Strings mit verschiedenen Längen. Eine neue Liste soll erstellt werden, in der nur Strings mit Zeichenlänge größer 3 enthalten sind."
   ]
  },
  {
   "cell_type": "code",
   "execution_count": 5,
   "metadata": {},
   "outputs": [
    {
     "name": "stdout",
     "output_type": "stream",
     "text": [
      "['Hallo', 'Welt']\n"
     ]
    }
   ],
   "source": [
    "string_liste = [\"a\", \"b\", \"Hallo\", \"x\", \"Welt\", \"zb\"]\n",
    "neue_liste = [x for x in string_liste if len(x) > 3]\n",
    "print(neue_liste)"
   ]
  },
  {
   "cell_type": "markdown",
   "metadata": {},
   "source": [
    "### Beispiel 3:\n",
    "\n",
    "Wir haben eine Funktion, die wir auf jedes Element in der Liste anwenden möchten"
   ]
  },
  {
   "cell_type": "code",
   "execution_count": 6,
   "metadata": {},
   "outputs": [
    {
     "name": "stdout",
     "output_type": "stream",
     "text": [
      "[0, 1, 4, 9, 16, 25, 36, 49, 64, 81]\n"
     ]
    }
   ],
   "source": [
    "def quadrat(x):\n",
    "    return x * x\n",
    "\n",
    "zahlen = range(10)\n",
    "quadrat_zahlen = [quadrat(i) for i in zahlen]\n",
    "print(quadrat_zahlen)"
   ]
  },
  {
   "cell_type": "markdown",
   "metadata": {},
   "source": [
    "### Beispiel 4:\n",
    "\n",
    "Wir haben eine Liste und möchten nur die Elemente, bei denen unsere Funktion True ergibt"
   ]
  },
  {
   "cell_type": "code",
   "execution_count": 7,
   "metadata": {},
   "outputs": [
    {
     "name": "stdout",
     "output_type": "stream",
     "text": [
      "['a', 'Hallo']\n"
     ]
    }
   ],
   "source": [
    "def ist_ein_string(x):\n",
    "    \"\"\"Die Funktion gibt True zurück\n",
    "    wenn x den Typ str hat\"\"\"\n",
    "    return type(x) == str\n",
    "\n",
    "gemischte_liste = [1.4, 23, \"a\", [\"a\", \"b\", \"c\"], \"Hallo\", 4]\n",
    "nur_strings = [elem for elem in gemischte_liste if ist_ein_string(elem)]\n",
    "print(nur_strings)"
   ]
  }
 ],
 "metadata": {
  "kernelspec": {
   "display_name": "Python 3",
   "language": "python",
   "name": "python3"
  },
  "language_info": {
   "codemirror_mode": {
    "name": "ipython",
    "version": 3
   },
   "file_extension": ".py",
   "mimetype": "text/x-python",
   "name": "python",
   "nbconvert_exporter": "python",
   "pygments_lexer": "ipython3",
   "version": "3.6.1"
  }
 },
 "nbformat": 4,
 "nbformat_minor": 2
}
